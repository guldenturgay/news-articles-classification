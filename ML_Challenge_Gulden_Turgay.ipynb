{
  "nbformat": 4,
  "nbformat_minor": 0,
  "metadata": {
    "colab": {
      "name": "ML_Challenge_Gulden_Turgay.ipynb",
      "provenance": [],
      "collapsed_sections": [],
      "authorship_tag": "ABX9TyOylrvNzMFkizxbVMgFpE/v",
      "include_colab_link": true
    },
    "kernelspec": {
      "name": "python3",
      "display_name": "Python 3"
    },
    "language_info": {
      "name": "python"
    }
  },
  "cells": [
    {
      "cell_type": "markdown",
      "metadata": {
        "id": "view-in-github",
        "colab_type": "text"
      },
      "source": [
        "<a href=\"https://colab.research.google.com/github/guldenturgay/news-articles-classification/blob/main/ML_Challenge_Gulden_Turgay.ipynb\" target=\"_parent\"><img src=\"https://colab.research.google.com/assets/colab-badge.svg\" alt=\"Open In Colab\"/></a>"
      ]
    },
    {
      "cell_type": "markdown",
      "metadata": {
        "id": "O8S6MsefueHz"
      },
      "source": [
        "# INTRODUCTION\n",
        "\n",
        "In this project, I will be working on a text classification model with Python and Tensorflow. Data will be acquired from [this Google Drive folder](https://drive.google.com/drive/folders/1k7MNpw_huZTL9opXU9e7u6M8phupPih7).\n",
        "\n",
        "### Table of contents\n",
        "- [Exploratory Data Analysis](#EXPLORATORY-DATA-ANALYSIS)\n",
        "- [Pre-Processing](#PRE-PROCESSING)\n",
        "- [Model Building](#MODEL-BUILDING)\n",
        "- [Test With New Data](#TEST-WITH-NEW-DATA)\n",
        "- [Conclusion](#CONCLUSION)\n",
        "\n"
      ]
    },
    {
      "cell_type": "markdown",
      "metadata": {
        "id": "oR6US94iuhwU"
      },
      "source": [
        "# EXPLORATORY DATA ANALYSIS\n",
        "\n",
        "I'll start with exploring the training data. First import libraries and modules."
      ]
    },
    {
      "cell_type": "code",
      "metadata": {
        "id": "i4nGLwM4YfAh",
        "colab": {
          "base_uri": "https://localhost:8080/"
        },
        "outputId": "2fe74d8a-03e5-4f66-d7ce-0dfacea2a122"
      },
      "source": [
        "# Import libraries and modules\n",
        "from tensorflow.keras import backend as K\n",
        "K.clear_session()\n",
        "import tensorflow as tf\n",
        "from tensorflow import keras\n",
        "import os\n",
        "import codecs \n",
        "from bs4 import BeautifulSoup\n",
        "import pandas as pd\n",
        "import re\n",
        "import string\n",
        "import nltk\n",
        "\n",
        "nltk.download('wordnet')\n",
        "nltk.download('stopwords')\n",
        "from nltk.corpus import stopwords\n"
      ],
      "execution_count": null,
      "outputs": [
        {
          "output_type": "stream",
          "name": "stdout",
          "text": [
            "[nltk_data] Downloading package wordnet to /root/nltk_data...\n",
            "[nltk_data]   Unzipping corpora/wordnet.zip.\n",
            "[nltk_data] Downloading package stopwords to /root/nltk_data...\n",
            "[nltk_data]   Unzipping corpora/stopwords.zip.\n"
          ]
        }
      ]
    },
    {
      "cell_type": "markdown",
      "metadata": {
        "id": "sJE3P2CREgBK"
      },
      "source": [
        "## Loading The Data From The Source\n",
        "\n",
        "Since the data is located in a Google Drive folder, I use the code below from Stackoverflow (link provided) to load the data to Google Colab. in order to fetch the files and save to Google Colab environment it requires access and a verification code provided by login."
      ]
    },
    {
      "cell_type": "code",
      "metadata": {
        "colab": {
          "base_uri": "https://localhost:8080/"
        },
        "id": "DhvvEfDMosXD",
        "outputId": "91ee4767-217e-48cd-fa61-72ab0ee68630"
      },
      "source": [
        "#https://stackoverflow.com/posts/48385944/revisions\n",
        "!pip install -U -q PyDrive\n",
        "import os\n",
        "from pydrive.auth import GoogleAuth\n",
        "from pydrive.drive import GoogleDrive\n",
        "from google.colab import auth\n",
        "from oauth2client.client import GoogleCredentials\n",
        "\n",
        "# 1. Authenticate and create the PyDrive client.\n",
        "auth.authenticate_user()\n",
        "gauth = GoogleAuth()\n",
        "gauth.credentials = GoogleCredentials.get_application_default()\n",
        "drive = GoogleDrive(gauth)\n",
        "\n",
        "# choose a local (colab) directory to store the data.\n",
        "local_download_path = os.path.expanduser('content/data')\n",
        "try:\n",
        "  os.makedirs(local_download_path)\n",
        "except: pass\n",
        "\n",
        "# 2. Auto-iterate using the query syntax\n",
        "#    https://developers.google.com/drive/v2/web/search-parameters\n",
        "#  Google Drive folder ID is '1k7MNpw_huZTL9opXU9e7u6M8phupPih7'\n",
        "file_list = drive.ListFile(\n",
        "    {'q': \"'1k7MNpw_huZTL9opXU9e7u6M8phupPih7' in parents\"}).GetList()\n",
        "\n",
        "for f in file_list:\n",
        "  # 3. Create & download by id.\n",
        "  print('title: %s, id: %s' % (f['title'], f['id']))\n",
        "  fname = os.path.join(local_download_path, f['title'])\n",
        "  print('downloading to {}'.format(fname))\n",
        "  f_ = drive.CreateFile({'id': f['id']})\n",
        "  f_.GetContentFile(fname)\n"
      ],
      "execution_count": null,
      "outputs": [
        {
          "output_type": "stream",
          "name": "stdout",
          "text": [
            "title: README.txt, id: 1YIEVrXbQbAZadZweNqmH4KO6wmErTiZR\n",
            "downloading to content/data/README.txt\n",
            "title: lewis.dtd, id: 1mT2ORVn2q-DzO-hI1mQs5poKaMcJ713P\n",
            "downloading to content/data/lewis.dtd\n",
            "title: feldman-cia-worldfactbook-data.txt, id: 1wCkZMJR-HPsudl2wNQDhAw2DUAujM3zm\n",
            "downloading to content/data/feldman-cia-worldfactbook-data.txt\n",
            "title: cat-descriptions_120396.txt, id: 1juoEstxpegKCDL0yncGhhgZWT2hNGC12\n",
            "downloading to content/data/cat-descriptions_120396.txt\n",
            "title: all-people-strings.lc.txt, id: 17NrxST0DdPWSDxxTjYssfMm50uY1Woz6\n",
            "downloading to content/data/all-people-strings.lc.txt\n",
            "title: all-orgs-strings.lc.txt, id: 1favlyG2c1JcLuNxIC-JlD1Pin3ZIBEv4\n",
            "downloading to content/data/all-orgs-strings.lc.txt\n",
            "title: all-topics-strings.lc.txt, id: 1dUGW1gUMqdGA5W8_iRbJaOZd5rbisWMv\n",
            "downloading to content/data/all-topics-strings.lc.txt\n",
            "title: all-places-strings.lc.txt, id: 15f0XJ24SqV97PS4-5YTR8zGmPQGorWHm\n",
            "downloading to content/data/all-places-strings.lc.txt\n",
            "title: all-exchanges-strings.lc.txt, id: 1WSpL4xEQyLcWa7exCkbCxJevEPwNErl1\n",
            "downloading to content/data/all-exchanges-strings.lc.txt\n",
            "title: reut2-020.sgm, id: 1dk7NLEt3PSL6cC8Cip6e6ExgLcigmuP3\n",
            "downloading to content/data/reut2-020.sgm\n",
            "title: reut2-019.sgm, id: 1rb8XwN8sff7a3l5f1FNjclbTNYJOPrC_\n",
            "downloading to content/data/reut2-019.sgm\n",
            "title: reut2-018.sgm, id: 1PSqF5i_RRQuodWUiLTaon4lY_INvC05G\n",
            "downloading to content/data/reut2-018.sgm\n",
            "title: reut2-017.sgm, id: 18qC3v9O0WS943YgS3ZsRiYewAKUTHiw0\n",
            "downloading to content/data/reut2-017.sgm\n",
            "title: reut2-016.sgm, id: 1YrrMGaRct6ei_CHObGk58x1mt8WULx79\n",
            "downloading to content/data/reut2-016.sgm\n",
            "title: reut2-014.sgm, id: 1Pk78DeRTON600LGSrEF_NwRiCLYJksk1\n",
            "downloading to content/data/reut2-014.sgm\n",
            "title: reut2-015.sgm, id: 1WyvajDKq6I--9TTF7OiZcLaFwldagn4n\n",
            "downloading to content/data/reut2-015.sgm\n",
            "title: reut2-013.sgm, id: 1sjJgOx_3oX6SGcJbzIsxsx04sXGgkaSG\n",
            "downloading to content/data/reut2-013.sgm\n",
            "title: reut2-012.sgm, id: 1zRaI9oi8zzfg-STkE8lQZnXpaHbWpJ74\n",
            "downloading to content/data/reut2-012.sgm\n",
            "title: reut2-011.sgm, id: 16gT9kQETyZn6-gRPqBt_uWYTunlhlrfk\n",
            "downloading to content/data/reut2-011.sgm\n",
            "title: reut2-010.sgm, id: 1--a7l0cuqVkcNAwIFHxwM3cyOTxgw8Ru\n",
            "downloading to content/data/reut2-010.sgm\n",
            "title: reut2-008.sgm, id: 1uw9M0MP-eoBUXKwstbzTQFjLeDohcN2S\n",
            "downloading to content/data/reut2-008.sgm\n",
            "title: reut2-009.sgm, id: 1k1eiNCqlOPkcuQ11bl99iXiU7xfzKP4w\n",
            "downloading to content/data/reut2-009.sgm\n",
            "title: reut2-007.sgm, id: 1-vkFNgRY2eygHWQXedU8Alo6phHl22md\n",
            "downloading to content/data/reut2-007.sgm\n",
            "title: reut2-006.sgm, id: 1Th0ccIQb8sfJaG6q-6FQwzG8-JVhfPHv\n",
            "downloading to content/data/reut2-006.sgm\n",
            "title: reut2-005.sgm, id: 174SS-EQYV2JxNSsLTvYlw_0QVC4gSeqv\n",
            "downloading to content/data/reut2-005.sgm\n",
            "title: reut2-003.sgm, id: 1TescP_yQ7QUyrmdykuXSHeuZAzpwPxdz\n",
            "downloading to content/data/reut2-003.sgm\n",
            "title: reut2-004.sgm, id: 14_cf6FojvOimJvTfiiSqP_CLQ3XTQRSe\n",
            "downloading to content/data/reut2-004.sgm\n",
            "title: reut2-002.sgm, id: 1WETAHLJ4MEluf94ifv6GlmpSvM_Urxgn\n",
            "downloading to content/data/reut2-002.sgm\n",
            "title: reut2-001.sgm, id: 14QO3k9LshvA_zisfs_1Rxao1LQFdEMQs\n",
            "downloading to content/data/reut2-001.sgm\n",
            "title: reut2-000.sgm, id: 1aYKEE4hqoB7t1nJZDCfUmCYCsSgC5Ut0\n",
            "downloading to content/data/reut2-000.sgm\n"
          ]
        }
      ]
    },
    {
      "cell_type": "markdown",
      "metadata": {
        "id": "MGWL_I4Tusp5"
      },
      "source": [
        "## Reading The Files\n",
        "\n",
        "Now I have the data in my local computer (Google Colab in this case). The below function reads the .sgm file, extracts the text body and topics for each news articles in the files and creates a Pandas dataframe. I use BeautifulSoup to scrape the text and topics."
      ]
    },
    {
      "cell_type": "code",
      "metadata": {
        "id": "YjYDnfD7NjxF"
      },
      "source": [
        "# Function to read the files and extract the text body and topics\n",
        "def extract_text(source):\n",
        "    \"\"\"\n",
        "    This function takes an .sgm file and returns a pandas dataframe. \n",
        "\n",
        "    Inputs: \n",
        "      source: File path in a string format.\n",
        "\n",
        "    Returns:\n",
        "      A Pandas dataframe, one column for text body, obe column for the labels belonging to the text.\n",
        "    \"\"\"\n",
        "\n",
        "    text_body = []\n",
        "    topic_names = []\n",
        "\n",
        "    # Scrapes the content from the file\n",
        "    # https://stackoverflow.com/questions/22216076/unicodedecodeerror-utf8-codec-cant-decode-byte-0xa5-in-position-0-invalid-s\n",
        "    with codecs.open(filename,'rb') as f:\n",
        "      lines = f.read()\n",
        "      soup = BeautifulSoup(lines, 'html.parser')\n",
        "      documents = soup.find_all('body')\n",
        "      topics = soup.find_all('topics')\n",
        "\n",
        "      # https://www.py4u.net/discuss/1403276\n",
        "      for document in documents:\n",
        "        text_body.append(document.text)\n",
        "    \n",
        "      for topic in topics:\n",
        "        topic_names.append(str(topic))\n",
        "\n",
        "    # Creates a list for the labels of each text body\n",
        "    topic_names = [[topic_list] for topic_list in topic_names]\n",
        "\n",
        "    topic_list_cleaned=[]\n",
        "    for topic_list in topic_names:\n",
        "      if topic_list[0] == str(topic_list[0]):\n",
        "        match = re.findall('(?<=>)(\\w+.\\w+)(?=<)', topic_list[0])\n",
        "        topic_list_cleaned.append(match)\n",
        "\n",
        "    # Creates a dataframe\n",
        "    df_text = pd.DataFrame(text_body, columns=['text'])\n",
        "    df_label = pd.DataFrame()\n",
        "    df_label['label'] = topic_list_cleaned\n",
        "    df = pd.concat([df_text, df_label], axis=1)\n",
        "            \n",
        "    return df"
      ],
      "execution_count": null,
      "outputs": []
    },
    {
      "cell_type": "code",
      "metadata": {
        "id": "LrNEYTkIH-Wz"
      },
      "source": [
        "# Read the files in the source folder and convert them to a pandas dataframe\n",
        "source = '/content/content/data'\n",
        "\n",
        "files_extracted=[]\n",
        "\n",
        "for file in os.listdir(source):\n",
        "  if file.endswith('.sgm'):\n",
        "    filename = os.path.join(source, file)\n",
        "    files_extracted.append(filename)\n",
        "\n",
        "list_of_dataframes = []\n",
        "\n",
        "for filename in files_extracted:\n",
        "  df = extract_text(filename)\n",
        "  list_of_dataframes.append(df)\n",
        "\n",
        "df = pd.concat(list_of_dataframes)"
      ],
      "execution_count": null,
      "outputs": []
    },
    {
      "cell_type": "code",
      "metadata": {
        "colab": {
          "base_uri": "https://localhost:8080/"
        },
        "id": "2JMZ35nlIG1f",
        "outputId": "7e9be283-99dd-4596-8ce6-3c220a305141"
      },
      "source": [
        "df.shape"
      ],
      "execution_count": null,
      "outputs": [
        {
          "output_type": "execute_result",
          "data": {
            "text/plain": [
              "(21000, 2)"
            ]
          },
          "metadata": {},
          "execution_count": 5
        }
      ]
    },
    {
      "cell_type": "markdown",
      "metadata": {
        "id": "1PRLK-LC2BhQ"
      },
      "source": [
        "## Check the Empty Rows\n",
        "\n",
        "In order to provide a consistent and clean data for the model, I will check and clean and empty rows."
      ]
    },
    {
      "cell_type": "code",
      "metadata": {
        "id": "8ZQCRGsNCnhK",
        "colab": {
          "base_uri": "https://localhost:8080/",
          "height": 204
        },
        "outputId": "461b9ba4-8799-4255-b90d-a661f01fe127"
      },
      "source": [
        "df.head()"
      ],
      "execution_count": null,
      "outputs": [
        {
          "output_type": "execute_result",
          "data": {
            "text/html": [
              "<div>\n",
              "<style scoped>\n",
              "    .dataframe tbody tr th:only-of-type {\n",
              "        vertical-align: middle;\n",
              "    }\n",
              "\n",
              "    .dataframe tbody tr th {\n",
              "        vertical-align: top;\n",
              "    }\n",
              "\n",
              "    .dataframe thead th {\n",
              "        text-align: right;\n",
              "    }\n",
              "</style>\n",
              "<table border=\"1\" class=\"dataframe\">\n",
              "  <thead>\n",
              "    <tr style=\"text-align: right;\">\n",
              "      <th></th>\n",
              "      <th>text</th>\n",
              "      <th>label</th>\n",
              "    </tr>\n",
              "  </thead>\n",
              "  <tbody>\n",
              "    <tr>\n",
              "      <th>0</th>\n",
              "      <td>Paxar Corp said it has\\nacquired Thermo-Print ...</td>\n",
              "      <td>[acq]</td>\n",
              "    </tr>\n",
              "    <tr>\n",
              "      <th>1</th>\n",
              "      <td>Shr 10 cts vs 32 cts\\n    Net 975,000 vs 3,145...</td>\n",
              "      <td>[earn]</td>\n",
              "    </tr>\n",
              "    <tr>\n",
              "      <th>2</th>\n",
              "      <td>Key Tronic corp said it has\\nreceived contract...</td>\n",
              "      <td>[]</td>\n",
              "    </tr>\n",
              "    <tr>\n",
              "      <th>3</th>\n",
              "      <td>Canadian Bashaw Leduc Oil and\\nGas Ltd said it...</td>\n",
              "      <td>[acq]</td>\n",
              "    </tr>\n",
              "    <tr>\n",
              "      <th>4</th>\n",
              "      <td>Entourage International Inc said it had\\na fir...</td>\n",
              "      <td>[earn]</td>\n",
              "    </tr>\n",
              "  </tbody>\n",
              "</table>\n",
              "</div>"
            ],
            "text/plain": [
              "                                                text   label\n",
              "0  Paxar Corp said it has\\nacquired Thermo-Print ...   [acq]\n",
              "1  Shr 10 cts vs 32 cts\\n    Net 975,000 vs 3,145...  [earn]\n",
              "2  Key Tronic corp said it has\\nreceived contract...      []\n",
              "3  Canadian Bashaw Leduc Oil and\\nGas Ltd said it...   [acq]\n",
              "4  Entourage International Inc said it had\\na fir...  [earn]"
            ]
          },
          "metadata": {},
          "execution_count": 6
        }
      ]
    },
    {
      "cell_type": "code",
      "metadata": {
        "id": "Az23VTebNqUq",
        "colab": {
          "base_uri": "https://localhost:8080/"
        },
        "outputId": "5fd531e1-1b41-4a40-c42c-b83823d9ff73"
      },
      "source": [
        "print('Number of NaN values: \\n',df.isnull().sum())"
      ],
      "execution_count": null,
      "outputs": [
        {
          "output_type": "stream",
          "name": "stdout",
          "text": [
            "Number of NaN values: \n",
            " text     2417\n",
            "label       0\n",
            "dtype: int64\n"
          ]
        }
      ]
    },
    {
      "cell_type": "code",
      "metadata": {
        "id": "I1mFCbZ9Nrvo",
        "colab": {
          "base_uri": "https://localhost:8080/",
          "height": 238
        },
        "outputId": "25eb5966-e807-4004-80ea-45af067f57b2"
      },
      "source": [
        "# Drop NaN values\n",
        "df.dropna(axis=0, inplace=True)\n",
        "print('Length of the dataframe: ', len(df), '\\n')\n",
        "df.tail()"
      ],
      "execution_count": null,
      "outputs": [
        {
          "output_type": "stream",
          "name": "stdout",
          "text": [
            "Length of the dataframe:  18583 \n",
            "\n"
          ]
        },
        {
          "output_type": "execute_result",
          "data": {
            "text/html": [
              "<div>\n",
              "<style scoped>\n",
              "    .dataframe tbody tr th:only-of-type {\n",
              "        vertical-align: middle;\n",
              "    }\n",
              "\n",
              "    .dataframe tbody tr th {\n",
              "        vertical-align: top;\n",
              "    }\n",
              "\n",
              "    .dataframe thead th {\n",
              "        text-align: right;\n",
              "    }\n",
              "</style>\n",
              "<table border=\"1\" class=\"dataframe\">\n",
              "  <thead>\n",
              "    <tr style=\"text-align: right;\">\n",
              "      <th></th>\n",
              "      <th>text</th>\n",
              "      <th>label</th>\n",
              "    </tr>\n",
              "  </thead>\n",
              "  <tbody>\n",
              "    <tr>\n",
              "      <th>916</th>\n",
              "      <td>The European Community (EC) farmers'\\nand farm...</td>\n",
              "      <td>[earn]</td>\n",
              "    </tr>\n",
              "    <tr>\n",
              "      <th>917</th>\n",
              "      <td>Producers zinc stocks in Organization\\nfor Eco...</td>\n",
              "      <td>[]</td>\n",
              "    </tr>\n",
              "    <tr>\n",
              "      <th>918</th>\n",
              "      <td>Higher world oil prices, coupled with a\\nnew r...</td>\n",
              "      <td>[]</td>\n",
              "    </tr>\n",
              "    <tr>\n",
              "      <th>919</th>\n",
              "      <td>The rebate granted at yesterday's EC\\nsugar te...</td>\n",
              "      <td>[cpi]</td>\n",
              "    </tr>\n",
              "    <tr>\n",
              "      <th>920</th>\n",
              "      <td>26 weeks ended Dec 28\\n    Net shr 25.9 cents ...</td>\n",
              "      <td>[]</td>\n",
              "    </tr>\n",
              "  </tbody>\n",
              "</table>\n",
              "</div>"
            ],
            "text/plain": [
              "                                                  text   label\n",
              "916  The European Community (EC) farmers'\\nand farm...  [earn]\n",
              "917  Producers zinc stocks in Organization\\nfor Eco...      []\n",
              "918  Higher world oil prices, coupled with a\\nnew r...      []\n",
              "919  The rebate granted at yesterday's EC\\nsugar te...   [cpi]\n",
              "920  26 weeks ended Dec 28\\n    Net shr 25.9 cents ...      []"
            ]
          },
          "metadata": {},
          "execution_count": 8
        }
      ]
    },
    {
      "cell_type": "markdown",
      "metadata": {
        "id": "wSjPBGzs2j0G"
      },
      "source": [
        "## Total Number of Each Topic\n",
        "\n",
        "Now I'd like to see how the label distribution is in this dataset. If it's balanced it's a YAY! but if it's not, it needs an additional cleaning.\n",
        "\n",
        "First I will one-hot encode all the labels for a convenience to feed the data to the model and for a further EDA."
      ]
    },
    {
      "cell_type": "code",
      "metadata": {
        "id": "NVtFMH-ONsu5"
      },
      "source": [
        "# https://stackoverflow.com/questions/45312377/how-to-one-hot-encode-from-a-pandas-column-containing-a-list\n",
        "# Creates a Multi label binarizer\n",
        "from sklearn.preprocessing import MultiLabelBinarizer\n",
        "\n",
        "mlb = MultiLabelBinarizer()\n",
        "\n",
        "# Creates a new dataframe with the binarized labels\n",
        "df_binarized = pd.DataFrame(mlb.fit_transform(df.pop('label')),\n",
        "                          columns=mlb.classes_,\n",
        "                          index=df.index)\n",
        "df=pd.concat([df, df_binarized], axis=1)"
      ],
      "execution_count": null,
      "outputs": []
    },
    {
      "cell_type": "code",
      "metadata": {
        "colab": {
          "base_uri": "https://localhost:8080/",
          "height": 576
        },
        "id": "Jc8FRACd3_uF",
        "outputId": "900bd706-94fb-4bfb-9b35-9572f31614d9"
      },
      "source": [
        "print(df.shape)\n",
        "df.head()"
      ],
      "execution_count": null,
      "outputs": [
        {
          "output_type": "stream",
          "name": "stdout",
          "text": [
            "(18583, 116)\n"
          ]
        },
        {
          "output_type": "execute_result",
          "data": {
            "text/html": [
              "<div>\n",
              "<style scoped>\n",
              "    .dataframe tbody tr th:only-of-type {\n",
              "        vertical-align: middle;\n",
              "    }\n",
              "\n",
              "    .dataframe tbody tr th {\n",
              "        vertical-align: top;\n",
              "    }\n",
              "\n",
              "    .dataframe thead th {\n",
              "        text-align: right;\n",
              "    }\n",
              "</style>\n",
              "<table border=\"1\" class=\"dataframe\">\n",
              "  <thead>\n",
              "    <tr style=\"text-align: right;\">\n",
              "      <th></th>\n",
              "      <th>text</th>\n",
              "      <th>acq</th>\n",
              "      <th>alum</th>\n",
              "      <th>austdlr</th>\n",
              "      <th>barley</th>\n",
              "      <th>bop</th>\n",
              "      <th>can</th>\n",
              "      <th>carcass</th>\n",
              "      <th>castor-oil</th>\n",
              "      <th>castorseed</th>\n",
              "      <th>citruspulp</th>\n",
              "      <th>cocoa</th>\n",
              "      <th>coconut</th>\n",
              "      <th>coconut-oil</th>\n",
              "      <th>coffee</th>\n",
              "      <th>copper</th>\n",
              "      <th>copra-cake</th>\n",
              "      <th>corn</th>\n",
              "      <th>cornglutenfeed</th>\n",
              "      <th>cotton</th>\n",
              "      <th>cotton-oil</th>\n",
              "      <th>cottonseed</th>\n",
              "      <th>cpi</th>\n",
              "      <th>cpu</th>\n",
              "      <th>crude</th>\n",
              "      <th>cruzado</th>\n",
              "      <th>dfl</th>\n",
              "      <th>dlr</th>\n",
              "      <th>dmk</th>\n",
              "      <th>earn</th>\n",
              "      <th>f-cattle</th>\n",
              "      <th>fishmeal</th>\n",
              "      <th>fuel</th>\n",
              "      <th>gas</th>\n",
              "      <th>gnp</th>\n",
              "      <th>gold</th>\n",
              "      <th>grain</th>\n",
              "      <th>groundnut</th>\n",
              "      <th>groundnut-oil</th>\n",
              "      <th>heat</th>\n",
              "      <th>...</th>\n",
              "      <th>plywood</th>\n",
              "      <th>pork-belly</th>\n",
              "      <th>potato</th>\n",
              "      <th>propane</th>\n",
              "      <th>rand</th>\n",
              "      <th>rape-meal</th>\n",
              "      <th>rape-oil</th>\n",
              "      <th>rapeseed</th>\n",
              "      <th>red-bean</th>\n",
              "      <th>reserves</th>\n",
              "      <th>retail</th>\n",
              "      <th>rice</th>\n",
              "      <th>ringgit</th>\n",
              "      <th>rubber</th>\n",
              "      <th>rupiah</th>\n",
              "      <th>rye</th>\n",
              "      <th>saudriyal</th>\n",
              "      <th>sfr</th>\n",
              "      <th>ship</th>\n",
              "      <th>silver</th>\n",
              "      <th>sorghum</th>\n",
              "      <th>soy-meal</th>\n",
              "      <th>soy-oil</th>\n",
              "      <th>soybean</th>\n",
              "      <th>stg</th>\n",
              "      <th>strategic-metal</th>\n",
              "      <th>sugar</th>\n",
              "      <th>sun-meal</th>\n",
              "      <th>sun-oil</th>\n",
              "      <th>sunseed</th>\n",
              "      <th>tapioca</th>\n",
              "      <th>tea</th>\n",
              "      <th>tin</th>\n",
              "      <th>trade</th>\n",
              "      <th>veg-oil</th>\n",
              "      <th>wheat</th>\n",
              "      <th>wool</th>\n",
              "      <th>wpi</th>\n",
              "      <th>yen</th>\n",
              "      <th>zinc</th>\n",
              "    </tr>\n",
              "  </thead>\n",
              "  <tbody>\n",
              "    <tr>\n",
              "      <th>0</th>\n",
              "      <td>Paxar Corp said it has\\nacquired Thermo-Print ...</td>\n",
              "      <td>1</td>\n",
              "      <td>0</td>\n",
              "      <td>0</td>\n",
              "      <td>0</td>\n",
              "      <td>0</td>\n",
              "      <td>0</td>\n",
              "      <td>0</td>\n",
              "      <td>0</td>\n",
              "      <td>0</td>\n",
              "      <td>0</td>\n",
              "      <td>0</td>\n",
              "      <td>0</td>\n",
              "      <td>0</td>\n",
              "      <td>0</td>\n",
              "      <td>0</td>\n",
              "      <td>0</td>\n",
              "      <td>0</td>\n",
              "      <td>0</td>\n",
              "      <td>0</td>\n",
              "      <td>0</td>\n",
              "      <td>0</td>\n",
              "      <td>0</td>\n",
              "      <td>0</td>\n",
              "      <td>0</td>\n",
              "      <td>0</td>\n",
              "      <td>0</td>\n",
              "      <td>0</td>\n",
              "      <td>0</td>\n",
              "      <td>0</td>\n",
              "      <td>0</td>\n",
              "      <td>0</td>\n",
              "      <td>0</td>\n",
              "      <td>0</td>\n",
              "      <td>0</td>\n",
              "      <td>0</td>\n",
              "      <td>0</td>\n",
              "      <td>0</td>\n",
              "      <td>0</td>\n",
              "      <td>0</td>\n",
              "      <td>...</td>\n",
              "      <td>0</td>\n",
              "      <td>0</td>\n",
              "      <td>0</td>\n",
              "      <td>0</td>\n",
              "      <td>0</td>\n",
              "      <td>0</td>\n",
              "      <td>0</td>\n",
              "      <td>0</td>\n",
              "      <td>0</td>\n",
              "      <td>0</td>\n",
              "      <td>0</td>\n",
              "      <td>0</td>\n",
              "      <td>0</td>\n",
              "      <td>0</td>\n",
              "      <td>0</td>\n",
              "      <td>0</td>\n",
              "      <td>0</td>\n",
              "      <td>0</td>\n",
              "      <td>0</td>\n",
              "      <td>0</td>\n",
              "      <td>0</td>\n",
              "      <td>0</td>\n",
              "      <td>0</td>\n",
              "      <td>0</td>\n",
              "      <td>0</td>\n",
              "      <td>0</td>\n",
              "      <td>0</td>\n",
              "      <td>0</td>\n",
              "      <td>0</td>\n",
              "      <td>0</td>\n",
              "      <td>0</td>\n",
              "      <td>0</td>\n",
              "      <td>0</td>\n",
              "      <td>0</td>\n",
              "      <td>0</td>\n",
              "      <td>0</td>\n",
              "      <td>0</td>\n",
              "      <td>0</td>\n",
              "      <td>0</td>\n",
              "      <td>0</td>\n",
              "    </tr>\n",
              "    <tr>\n",
              "      <th>1</th>\n",
              "      <td>Shr 10 cts vs 32 cts\\n    Net 975,000 vs 3,145...</td>\n",
              "      <td>0</td>\n",
              "      <td>0</td>\n",
              "      <td>0</td>\n",
              "      <td>0</td>\n",
              "      <td>0</td>\n",
              "      <td>0</td>\n",
              "      <td>0</td>\n",
              "      <td>0</td>\n",
              "      <td>0</td>\n",
              "      <td>0</td>\n",
              "      <td>0</td>\n",
              "      <td>0</td>\n",
              "      <td>0</td>\n",
              "      <td>0</td>\n",
              "      <td>0</td>\n",
              "      <td>0</td>\n",
              "      <td>0</td>\n",
              "      <td>0</td>\n",
              "      <td>0</td>\n",
              "      <td>0</td>\n",
              "      <td>0</td>\n",
              "      <td>0</td>\n",
              "      <td>0</td>\n",
              "      <td>0</td>\n",
              "      <td>0</td>\n",
              "      <td>0</td>\n",
              "      <td>0</td>\n",
              "      <td>0</td>\n",
              "      <td>1</td>\n",
              "      <td>0</td>\n",
              "      <td>0</td>\n",
              "      <td>0</td>\n",
              "      <td>0</td>\n",
              "      <td>0</td>\n",
              "      <td>0</td>\n",
              "      <td>0</td>\n",
              "      <td>0</td>\n",
              "      <td>0</td>\n",
              "      <td>0</td>\n",
              "      <td>...</td>\n",
              "      <td>0</td>\n",
              "      <td>0</td>\n",
              "      <td>0</td>\n",
              "      <td>0</td>\n",
              "      <td>0</td>\n",
              "      <td>0</td>\n",
              "      <td>0</td>\n",
              "      <td>0</td>\n",
              "      <td>0</td>\n",
              "      <td>0</td>\n",
              "      <td>0</td>\n",
              "      <td>0</td>\n",
              "      <td>0</td>\n",
              "      <td>0</td>\n",
              "      <td>0</td>\n",
              "      <td>0</td>\n",
              "      <td>0</td>\n",
              "      <td>0</td>\n",
              "      <td>0</td>\n",
              "      <td>0</td>\n",
              "      <td>0</td>\n",
              "      <td>0</td>\n",
              "      <td>0</td>\n",
              "      <td>0</td>\n",
              "      <td>0</td>\n",
              "      <td>0</td>\n",
              "      <td>0</td>\n",
              "      <td>0</td>\n",
              "      <td>0</td>\n",
              "      <td>0</td>\n",
              "      <td>0</td>\n",
              "      <td>0</td>\n",
              "      <td>0</td>\n",
              "      <td>0</td>\n",
              "      <td>0</td>\n",
              "      <td>0</td>\n",
              "      <td>0</td>\n",
              "      <td>0</td>\n",
              "      <td>0</td>\n",
              "      <td>0</td>\n",
              "    </tr>\n",
              "    <tr>\n",
              "      <th>2</th>\n",
              "      <td>Key Tronic corp said it has\\nreceived contract...</td>\n",
              "      <td>0</td>\n",
              "      <td>0</td>\n",
              "      <td>0</td>\n",
              "      <td>0</td>\n",
              "      <td>0</td>\n",
              "      <td>0</td>\n",
              "      <td>0</td>\n",
              "      <td>0</td>\n",
              "      <td>0</td>\n",
              "      <td>0</td>\n",
              "      <td>0</td>\n",
              "      <td>0</td>\n",
              "      <td>0</td>\n",
              "      <td>0</td>\n",
              "      <td>0</td>\n",
              "      <td>0</td>\n",
              "      <td>0</td>\n",
              "      <td>0</td>\n",
              "      <td>0</td>\n",
              "      <td>0</td>\n",
              "      <td>0</td>\n",
              "      <td>0</td>\n",
              "      <td>0</td>\n",
              "      <td>0</td>\n",
              "      <td>0</td>\n",
              "      <td>0</td>\n",
              "      <td>0</td>\n",
              "      <td>0</td>\n",
              "      <td>0</td>\n",
              "      <td>0</td>\n",
              "      <td>0</td>\n",
              "      <td>0</td>\n",
              "      <td>0</td>\n",
              "      <td>0</td>\n",
              "      <td>0</td>\n",
              "      <td>0</td>\n",
              "      <td>0</td>\n",
              "      <td>0</td>\n",
              "      <td>0</td>\n",
              "      <td>...</td>\n",
              "      <td>0</td>\n",
              "      <td>0</td>\n",
              "      <td>0</td>\n",
              "      <td>0</td>\n",
              "      <td>0</td>\n",
              "      <td>0</td>\n",
              "      <td>0</td>\n",
              "      <td>0</td>\n",
              "      <td>0</td>\n",
              "      <td>0</td>\n",
              "      <td>0</td>\n",
              "      <td>0</td>\n",
              "      <td>0</td>\n",
              "      <td>0</td>\n",
              "      <td>0</td>\n",
              "      <td>0</td>\n",
              "      <td>0</td>\n",
              "      <td>0</td>\n",
              "      <td>0</td>\n",
              "      <td>0</td>\n",
              "      <td>0</td>\n",
              "      <td>0</td>\n",
              "      <td>0</td>\n",
              "      <td>0</td>\n",
              "      <td>0</td>\n",
              "      <td>0</td>\n",
              "      <td>0</td>\n",
              "      <td>0</td>\n",
              "      <td>0</td>\n",
              "      <td>0</td>\n",
              "      <td>0</td>\n",
              "      <td>0</td>\n",
              "      <td>0</td>\n",
              "      <td>0</td>\n",
              "      <td>0</td>\n",
              "      <td>0</td>\n",
              "      <td>0</td>\n",
              "      <td>0</td>\n",
              "      <td>0</td>\n",
              "      <td>0</td>\n",
              "    </tr>\n",
              "    <tr>\n",
              "      <th>3</th>\n",
              "      <td>Canadian Bashaw Leduc Oil and\\nGas Ltd said it...</td>\n",
              "      <td>1</td>\n",
              "      <td>0</td>\n",
              "      <td>0</td>\n",
              "      <td>0</td>\n",
              "      <td>0</td>\n",
              "      <td>0</td>\n",
              "      <td>0</td>\n",
              "      <td>0</td>\n",
              "      <td>0</td>\n",
              "      <td>0</td>\n",
              "      <td>0</td>\n",
              "      <td>0</td>\n",
              "      <td>0</td>\n",
              "      <td>0</td>\n",
              "      <td>0</td>\n",
              "      <td>0</td>\n",
              "      <td>0</td>\n",
              "      <td>0</td>\n",
              "      <td>0</td>\n",
              "      <td>0</td>\n",
              "      <td>0</td>\n",
              "      <td>0</td>\n",
              "      <td>0</td>\n",
              "      <td>0</td>\n",
              "      <td>0</td>\n",
              "      <td>0</td>\n",
              "      <td>0</td>\n",
              "      <td>0</td>\n",
              "      <td>0</td>\n",
              "      <td>0</td>\n",
              "      <td>0</td>\n",
              "      <td>0</td>\n",
              "      <td>0</td>\n",
              "      <td>0</td>\n",
              "      <td>0</td>\n",
              "      <td>0</td>\n",
              "      <td>0</td>\n",
              "      <td>0</td>\n",
              "      <td>0</td>\n",
              "      <td>...</td>\n",
              "      <td>0</td>\n",
              "      <td>0</td>\n",
              "      <td>0</td>\n",
              "      <td>0</td>\n",
              "      <td>0</td>\n",
              "      <td>0</td>\n",
              "      <td>0</td>\n",
              "      <td>0</td>\n",
              "      <td>0</td>\n",
              "      <td>0</td>\n",
              "      <td>0</td>\n",
              "      <td>0</td>\n",
              "      <td>0</td>\n",
              "      <td>0</td>\n",
              "      <td>0</td>\n",
              "      <td>0</td>\n",
              "      <td>0</td>\n",
              "      <td>0</td>\n",
              "      <td>0</td>\n",
              "      <td>0</td>\n",
              "      <td>0</td>\n",
              "      <td>0</td>\n",
              "      <td>0</td>\n",
              "      <td>0</td>\n",
              "      <td>0</td>\n",
              "      <td>0</td>\n",
              "      <td>0</td>\n",
              "      <td>0</td>\n",
              "      <td>0</td>\n",
              "      <td>0</td>\n",
              "      <td>0</td>\n",
              "      <td>0</td>\n",
              "      <td>0</td>\n",
              "      <td>0</td>\n",
              "      <td>0</td>\n",
              "      <td>0</td>\n",
              "      <td>0</td>\n",
              "      <td>0</td>\n",
              "      <td>0</td>\n",
              "      <td>0</td>\n",
              "    </tr>\n",
              "    <tr>\n",
              "      <th>4</th>\n",
              "      <td>Entourage International Inc said it had\\na fir...</td>\n",
              "      <td>0</td>\n",
              "      <td>0</td>\n",
              "      <td>0</td>\n",
              "      <td>0</td>\n",
              "      <td>0</td>\n",
              "      <td>0</td>\n",
              "      <td>0</td>\n",
              "      <td>0</td>\n",
              "      <td>0</td>\n",
              "      <td>0</td>\n",
              "      <td>0</td>\n",
              "      <td>0</td>\n",
              "      <td>0</td>\n",
              "      <td>0</td>\n",
              "      <td>0</td>\n",
              "      <td>0</td>\n",
              "      <td>0</td>\n",
              "      <td>0</td>\n",
              "      <td>0</td>\n",
              "      <td>0</td>\n",
              "      <td>0</td>\n",
              "      <td>0</td>\n",
              "      <td>0</td>\n",
              "      <td>0</td>\n",
              "      <td>0</td>\n",
              "      <td>0</td>\n",
              "      <td>0</td>\n",
              "      <td>0</td>\n",
              "      <td>1</td>\n",
              "      <td>0</td>\n",
              "      <td>0</td>\n",
              "      <td>0</td>\n",
              "      <td>0</td>\n",
              "      <td>0</td>\n",
              "      <td>0</td>\n",
              "      <td>0</td>\n",
              "      <td>0</td>\n",
              "      <td>0</td>\n",
              "      <td>0</td>\n",
              "      <td>...</td>\n",
              "      <td>0</td>\n",
              "      <td>0</td>\n",
              "      <td>0</td>\n",
              "      <td>0</td>\n",
              "      <td>0</td>\n",
              "      <td>0</td>\n",
              "      <td>0</td>\n",
              "      <td>0</td>\n",
              "      <td>0</td>\n",
              "      <td>0</td>\n",
              "      <td>0</td>\n",
              "      <td>0</td>\n",
              "      <td>0</td>\n",
              "      <td>0</td>\n",
              "      <td>0</td>\n",
              "      <td>0</td>\n",
              "      <td>0</td>\n",
              "      <td>0</td>\n",
              "      <td>0</td>\n",
              "      <td>0</td>\n",
              "      <td>0</td>\n",
              "      <td>0</td>\n",
              "      <td>0</td>\n",
              "      <td>0</td>\n",
              "      <td>0</td>\n",
              "      <td>0</td>\n",
              "      <td>0</td>\n",
              "      <td>0</td>\n",
              "      <td>0</td>\n",
              "      <td>0</td>\n",
              "      <td>0</td>\n",
              "      <td>0</td>\n",
              "      <td>0</td>\n",
              "      <td>0</td>\n",
              "      <td>0</td>\n",
              "      <td>0</td>\n",
              "      <td>0</td>\n",
              "      <td>0</td>\n",
              "      <td>0</td>\n",
              "      <td>0</td>\n",
              "    </tr>\n",
              "  </tbody>\n",
              "</table>\n",
              "<p>5 rows × 116 columns</p>\n",
              "</div>"
            ],
            "text/plain": [
              "                                                text  acq  alum  ...  wpi  yen  zinc\n",
              "0  Paxar Corp said it has\\nacquired Thermo-Print ...    1     0  ...    0    0     0\n",
              "1  Shr 10 cts vs 32 cts\\n    Net 975,000 vs 3,145...    0     0  ...    0    0     0\n",
              "2  Key Tronic corp said it has\\nreceived contract...    0     0  ...    0    0     0\n",
              "3  Canadian Bashaw Leduc Oil and\\nGas Ltd said it...    1     0  ...    0    0     0\n",
              "4  Entourage International Inc said it had\\na fir...    0     0  ...    0    0     0\n",
              "\n",
              "[5 rows x 116 columns]"
            ]
          },
          "metadata": {},
          "execution_count": 10
        }
      ]
    },
    {
      "cell_type": "markdown",
      "metadata": {
        "id": "3MfiyPNi5fIC"
      },
      "source": [
        "Now we have 116 columns, 1 for the text and the rest for the labels. Let's count them."
      ]
    },
    {
      "cell_type": "code",
      "metadata": {
        "id": "gYlGuZ4UNv3t",
        "colab": {
          "base_uri": "https://localhost:8080/",
          "height": 440
        },
        "outputId": "43602a06-3c0d-4042-e3c2-9ad72cbc9e6d"
      },
      "source": [
        "# https://stackoverflow.com/posts/56720533/revisions\n",
        "# Creates a new row for each label's count\n",
        "df.loc['Total'] = df.sum(numeric_only=True, axis=0)\n",
        "df.tail()"
      ],
      "execution_count": null,
      "outputs": [
        {
          "output_type": "execute_result",
          "data": {
            "text/html": [
              "<div>\n",
              "<style scoped>\n",
              "    .dataframe tbody tr th:only-of-type {\n",
              "        vertical-align: middle;\n",
              "    }\n",
              "\n",
              "    .dataframe tbody tr th {\n",
              "        vertical-align: top;\n",
              "    }\n",
              "\n",
              "    .dataframe thead th {\n",
              "        text-align: right;\n",
              "    }\n",
              "</style>\n",
              "<table border=\"1\" class=\"dataframe\">\n",
              "  <thead>\n",
              "    <tr style=\"text-align: right;\">\n",
              "      <th></th>\n",
              "      <th>text</th>\n",
              "      <th>acq</th>\n",
              "      <th>alum</th>\n",
              "      <th>austdlr</th>\n",
              "      <th>barley</th>\n",
              "      <th>bop</th>\n",
              "      <th>can</th>\n",
              "      <th>carcass</th>\n",
              "      <th>castor-oil</th>\n",
              "      <th>castorseed</th>\n",
              "      <th>citruspulp</th>\n",
              "      <th>cocoa</th>\n",
              "      <th>coconut</th>\n",
              "      <th>coconut-oil</th>\n",
              "      <th>coffee</th>\n",
              "      <th>copper</th>\n",
              "      <th>copra-cake</th>\n",
              "      <th>corn</th>\n",
              "      <th>cornglutenfeed</th>\n",
              "      <th>cotton</th>\n",
              "      <th>cotton-oil</th>\n",
              "      <th>cottonseed</th>\n",
              "      <th>cpi</th>\n",
              "      <th>cpu</th>\n",
              "      <th>crude</th>\n",
              "      <th>cruzado</th>\n",
              "      <th>dfl</th>\n",
              "      <th>dlr</th>\n",
              "      <th>dmk</th>\n",
              "      <th>earn</th>\n",
              "      <th>f-cattle</th>\n",
              "      <th>fishmeal</th>\n",
              "      <th>fuel</th>\n",
              "      <th>gas</th>\n",
              "      <th>gnp</th>\n",
              "      <th>gold</th>\n",
              "      <th>grain</th>\n",
              "      <th>groundnut</th>\n",
              "      <th>groundnut-oil</th>\n",
              "      <th>heat</th>\n",
              "      <th>...</th>\n",
              "      <th>plywood</th>\n",
              "      <th>pork-belly</th>\n",
              "      <th>potato</th>\n",
              "      <th>propane</th>\n",
              "      <th>rand</th>\n",
              "      <th>rape-meal</th>\n",
              "      <th>rape-oil</th>\n",
              "      <th>rapeseed</th>\n",
              "      <th>red-bean</th>\n",
              "      <th>reserves</th>\n",
              "      <th>retail</th>\n",
              "      <th>rice</th>\n",
              "      <th>ringgit</th>\n",
              "      <th>rubber</th>\n",
              "      <th>rupiah</th>\n",
              "      <th>rye</th>\n",
              "      <th>saudriyal</th>\n",
              "      <th>sfr</th>\n",
              "      <th>ship</th>\n",
              "      <th>silver</th>\n",
              "      <th>sorghum</th>\n",
              "      <th>soy-meal</th>\n",
              "      <th>soy-oil</th>\n",
              "      <th>soybean</th>\n",
              "      <th>stg</th>\n",
              "      <th>strategic-metal</th>\n",
              "      <th>sugar</th>\n",
              "      <th>sun-meal</th>\n",
              "      <th>sun-oil</th>\n",
              "      <th>sunseed</th>\n",
              "      <th>tapioca</th>\n",
              "      <th>tea</th>\n",
              "      <th>tin</th>\n",
              "      <th>trade</th>\n",
              "      <th>veg-oil</th>\n",
              "      <th>wheat</th>\n",
              "      <th>wool</th>\n",
              "      <th>wpi</th>\n",
              "      <th>yen</th>\n",
              "      <th>zinc</th>\n",
              "    </tr>\n",
              "  </thead>\n",
              "  <tbody>\n",
              "    <tr>\n",
              "      <th>917</th>\n",
              "      <td>Producers zinc stocks in Organization\\nfor Eco...</td>\n",
              "      <td>0.0</td>\n",
              "      <td>0.0</td>\n",
              "      <td>0.0</td>\n",
              "      <td>0.0</td>\n",
              "      <td>0.0</td>\n",
              "      <td>0.0</td>\n",
              "      <td>0.0</td>\n",
              "      <td>0.0</td>\n",
              "      <td>0.0</td>\n",
              "      <td>0.0</td>\n",
              "      <td>0.0</td>\n",
              "      <td>0.0</td>\n",
              "      <td>0.0</td>\n",
              "      <td>0.0</td>\n",
              "      <td>0.0</td>\n",
              "      <td>0.0</td>\n",
              "      <td>0.0</td>\n",
              "      <td>0.0</td>\n",
              "      <td>0.0</td>\n",
              "      <td>0.0</td>\n",
              "      <td>0.0</td>\n",
              "      <td>0.0</td>\n",
              "      <td>0.0</td>\n",
              "      <td>0.0</td>\n",
              "      <td>0.0</td>\n",
              "      <td>0.0</td>\n",
              "      <td>0.0</td>\n",
              "      <td>0.0</td>\n",
              "      <td>0.0</td>\n",
              "      <td>0.0</td>\n",
              "      <td>0.0</td>\n",
              "      <td>0.0</td>\n",
              "      <td>0.0</td>\n",
              "      <td>0.0</td>\n",
              "      <td>0.0</td>\n",
              "      <td>0.0</td>\n",
              "      <td>0.0</td>\n",
              "      <td>0.0</td>\n",
              "      <td>0.0</td>\n",
              "      <td>...</td>\n",
              "      <td>0.0</td>\n",
              "      <td>0.0</td>\n",
              "      <td>0.0</td>\n",
              "      <td>0.0</td>\n",
              "      <td>0.0</td>\n",
              "      <td>0.0</td>\n",
              "      <td>0.0</td>\n",
              "      <td>0.0</td>\n",
              "      <td>0.0</td>\n",
              "      <td>0.0</td>\n",
              "      <td>0.0</td>\n",
              "      <td>0.0</td>\n",
              "      <td>0.0</td>\n",
              "      <td>0.0</td>\n",
              "      <td>0.0</td>\n",
              "      <td>0.0</td>\n",
              "      <td>0.0</td>\n",
              "      <td>0.0</td>\n",
              "      <td>0.0</td>\n",
              "      <td>0.0</td>\n",
              "      <td>0.0</td>\n",
              "      <td>0.0</td>\n",
              "      <td>0.0</td>\n",
              "      <td>0.0</td>\n",
              "      <td>0.0</td>\n",
              "      <td>0.0</td>\n",
              "      <td>0.0</td>\n",
              "      <td>0.0</td>\n",
              "      <td>0.0</td>\n",
              "      <td>0.0</td>\n",
              "      <td>0.0</td>\n",
              "      <td>0.0</td>\n",
              "      <td>0.0</td>\n",
              "      <td>0.0</td>\n",
              "      <td>0.0</td>\n",
              "      <td>0.0</td>\n",
              "      <td>0.0</td>\n",
              "      <td>0.0</td>\n",
              "      <td>0.0</td>\n",
              "      <td>0.0</td>\n",
              "    </tr>\n",
              "    <tr>\n",
              "      <th>918</th>\n",
              "      <td>Higher world oil prices, coupled with a\\nnew r...</td>\n",
              "      <td>0.0</td>\n",
              "      <td>0.0</td>\n",
              "      <td>0.0</td>\n",
              "      <td>0.0</td>\n",
              "      <td>0.0</td>\n",
              "      <td>0.0</td>\n",
              "      <td>0.0</td>\n",
              "      <td>0.0</td>\n",
              "      <td>0.0</td>\n",
              "      <td>0.0</td>\n",
              "      <td>0.0</td>\n",
              "      <td>0.0</td>\n",
              "      <td>0.0</td>\n",
              "      <td>0.0</td>\n",
              "      <td>0.0</td>\n",
              "      <td>0.0</td>\n",
              "      <td>0.0</td>\n",
              "      <td>0.0</td>\n",
              "      <td>0.0</td>\n",
              "      <td>0.0</td>\n",
              "      <td>0.0</td>\n",
              "      <td>0.0</td>\n",
              "      <td>0.0</td>\n",
              "      <td>0.0</td>\n",
              "      <td>0.0</td>\n",
              "      <td>0.0</td>\n",
              "      <td>0.0</td>\n",
              "      <td>0.0</td>\n",
              "      <td>0.0</td>\n",
              "      <td>0.0</td>\n",
              "      <td>0.0</td>\n",
              "      <td>0.0</td>\n",
              "      <td>0.0</td>\n",
              "      <td>0.0</td>\n",
              "      <td>0.0</td>\n",
              "      <td>0.0</td>\n",
              "      <td>0.0</td>\n",
              "      <td>0.0</td>\n",
              "      <td>0.0</td>\n",
              "      <td>...</td>\n",
              "      <td>0.0</td>\n",
              "      <td>0.0</td>\n",
              "      <td>0.0</td>\n",
              "      <td>0.0</td>\n",
              "      <td>0.0</td>\n",
              "      <td>0.0</td>\n",
              "      <td>0.0</td>\n",
              "      <td>0.0</td>\n",
              "      <td>0.0</td>\n",
              "      <td>0.0</td>\n",
              "      <td>0.0</td>\n",
              "      <td>0.0</td>\n",
              "      <td>0.0</td>\n",
              "      <td>0.0</td>\n",
              "      <td>0.0</td>\n",
              "      <td>0.0</td>\n",
              "      <td>0.0</td>\n",
              "      <td>0.0</td>\n",
              "      <td>0.0</td>\n",
              "      <td>0.0</td>\n",
              "      <td>0.0</td>\n",
              "      <td>0.0</td>\n",
              "      <td>0.0</td>\n",
              "      <td>0.0</td>\n",
              "      <td>0.0</td>\n",
              "      <td>0.0</td>\n",
              "      <td>0.0</td>\n",
              "      <td>0.0</td>\n",
              "      <td>0.0</td>\n",
              "      <td>0.0</td>\n",
              "      <td>0.0</td>\n",
              "      <td>0.0</td>\n",
              "      <td>0.0</td>\n",
              "      <td>0.0</td>\n",
              "      <td>0.0</td>\n",
              "      <td>0.0</td>\n",
              "      <td>0.0</td>\n",
              "      <td>0.0</td>\n",
              "      <td>0.0</td>\n",
              "      <td>0.0</td>\n",
              "    </tr>\n",
              "    <tr>\n",
              "      <th>919</th>\n",
              "      <td>The rebate granted at yesterday's EC\\nsugar te...</td>\n",
              "      <td>0.0</td>\n",
              "      <td>0.0</td>\n",
              "      <td>0.0</td>\n",
              "      <td>0.0</td>\n",
              "      <td>0.0</td>\n",
              "      <td>0.0</td>\n",
              "      <td>0.0</td>\n",
              "      <td>0.0</td>\n",
              "      <td>0.0</td>\n",
              "      <td>0.0</td>\n",
              "      <td>0.0</td>\n",
              "      <td>0.0</td>\n",
              "      <td>0.0</td>\n",
              "      <td>0.0</td>\n",
              "      <td>0.0</td>\n",
              "      <td>0.0</td>\n",
              "      <td>0.0</td>\n",
              "      <td>0.0</td>\n",
              "      <td>0.0</td>\n",
              "      <td>0.0</td>\n",
              "      <td>0.0</td>\n",
              "      <td>1.0</td>\n",
              "      <td>0.0</td>\n",
              "      <td>0.0</td>\n",
              "      <td>0.0</td>\n",
              "      <td>0.0</td>\n",
              "      <td>0.0</td>\n",
              "      <td>0.0</td>\n",
              "      <td>0.0</td>\n",
              "      <td>0.0</td>\n",
              "      <td>0.0</td>\n",
              "      <td>0.0</td>\n",
              "      <td>0.0</td>\n",
              "      <td>0.0</td>\n",
              "      <td>0.0</td>\n",
              "      <td>0.0</td>\n",
              "      <td>0.0</td>\n",
              "      <td>0.0</td>\n",
              "      <td>0.0</td>\n",
              "      <td>...</td>\n",
              "      <td>0.0</td>\n",
              "      <td>0.0</td>\n",
              "      <td>0.0</td>\n",
              "      <td>0.0</td>\n",
              "      <td>0.0</td>\n",
              "      <td>0.0</td>\n",
              "      <td>0.0</td>\n",
              "      <td>0.0</td>\n",
              "      <td>0.0</td>\n",
              "      <td>0.0</td>\n",
              "      <td>0.0</td>\n",
              "      <td>0.0</td>\n",
              "      <td>0.0</td>\n",
              "      <td>0.0</td>\n",
              "      <td>0.0</td>\n",
              "      <td>0.0</td>\n",
              "      <td>0.0</td>\n",
              "      <td>0.0</td>\n",
              "      <td>0.0</td>\n",
              "      <td>0.0</td>\n",
              "      <td>0.0</td>\n",
              "      <td>0.0</td>\n",
              "      <td>0.0</td>\n",
              "      <td>0.0</td>\n",
              "      <td>0.0</td>\n",
              "      <td>0.0</td>\n",
              "      <td>0.0</td>\n",
              "      <td>0.0</td>\n",
              "      <td>0.0</td>\n",
              "      <td>0.0</td>\n",
              "      <td>0.0</td>\n",
              "      <td>0.0</td>\n",
              "      <td>0.0</td>\n",
              "      <td>0.0</td>\n",
              "      <td>0.0</td>\n",
              "      <td>0.0</td>\n",
              "      <td>0.0</td>\n",
              "      <td>0.0</td>\n",
              "      <td>0.0</td>\n",
              "      <td>0.0</td>\n",
              "    </tr>\n",
              "    <tr>\n",
              "      <th>920</th>\n",
              "      <td>26 weeks ended Dec 28\\n    Net shr 25.9 cents ...</td>\n",
              "      <td>0.0</td>\n",
              "      <td>0.0</td>\n",
              "      <td>0.0</td>\n",
              "      <td>0.0</td>\n",
              "      <td>0.0</td>\n",
              "      <td>0.0</td>\n",
              "      <td>0.0</td>\n",
              "      <td>0.0</td>\n",
              "      <td>0.0</td>\n",
              "      <td>0.0</td>\n",
              "      <td>0.0</td>\n",
              "      <td>0.0</td>\n",
              "      <td>0.0</td>\n",
              "      <td>0.0</td>\n",
              "      <td>0.0</td>\n",
              "      <td>0.0</td>\n",
              "      <td>0.0</td>\n",
              "      <td>0.0</td>\n",
              "      <td>0.0</td>\n",
              "      <td>0.0</td>\n",
              "      <td>0.0</td>\n",
              "      <td>0.0</td>\n",
              "      <td>0.0</td>\n",
              "      <td>0.0</td>\n",
              "      <td>0.0</td>\n",
              "      <td>0.0</td>\n",
              "      <td>0.0</td>\n",
              "      <td>0.0</td>\n",
              "      <td>0.0</td>\n",
              "      <td>0.0</td>\n",
              "      <td>0.0</td>\n",
              "      <td>0.0</td>\n",
              "      <td>0.0</td>\n",
              "      <td>0.0</td>\n",
              "      <td>0.0</td>\n",
              "      <td>0.0</td>\n",
              "      <td>0.0</td>\n",
              "      <td>0.0</td>\n",
              "      <td>0.0</td>\n",
              "      <td>...</td>\n",
              "      <td>0.0</td>\n",
              "      <td>0.0</td>\n",
              "      <td>0.0</td>\n",
              "      <td>0.0</td>\n",
              "      <td>0.0</td>\n",
              "      <td>0.0</td>\n",
              "      <td>0.0</td>\n",
              "      <td>0.0</td>\n",
              "      <td>0.0</td>\n",
              "      <td>0.0</td>\n",
              "      <td>0.0</td>\n",
              "      <td>0.0</td>\n",
              "      <td>0.0</td>\n",
              "      <td>0.0</td>\n",
              "      <td>0.0</td>\n",
              "      <td>0.0</td>\n",
              "      <td>0.0</td>\n",
              "      <td>0.0</td>\n",
              "      <td>0.0</td>\n",
              "      <td>0.0</td>\n",
              "      <td>0.0</td>\n",
              "      <td>0.0</td>\n",
              "      <td>0.0</td>\n",
              "      <td>0.0</td>\n",
              "      <td>0.0</td>\n",
              "      <td>0.0</td>\n",
              "      <td>0.0</td>\n",
              "      <td>0.0</td>\n",
              "      <td>0.0</td>\n",
              "      <td>0.0</td>\n",
              "      <td>0.0</td>\n",
              "      <td>0.0</td>\n",
              "      <td>0.0</td>\n",
              "      <td>0.0</td>\n",
              "      <td>0.0</td>\n",
              "      <td>0.0</td>\n",
              "      <td>0.0</td>\n",
              "      <td>0.0</td>\n",
              "      <td>0.0</td>\n",
              "      <td>0.0</td>\n",
              "    </tr>\n",
              "    <tr>\n",
              "      <th>Total</th>\n",
              "      <td>NaN</td>\n",
              "      <td>2108.0</td>\n",
              "      <td>58.0</td>\n",
              "      <td>3.0</td>\n",
              "      <td>46.0</td>\n",
              "      <td>98.0</td>\n",
              "      <td>2.0</td>\n",
              "      <td>71.0</td>\n",
              "      <td>2.0</td>\n",
              "      <td>1.0</td>\n",
              "      <td>1.0</td>\n",
              "      <td>72.0</td>\n",
              "      <td>6.0</td>\n",
              "      <td>6.0</td>\n",
              "      <td>134.0</td>\n",
              "      <td>66.0</td>\n",
              "      <td>3.0</td>\n",
              "      <td>218.0</td>\n",
              "      <td>1.0</td>\n",
              "      <td>55.0</td>\n",
              "      <td>3.0</td>\n",
              "      <td>1.0</td>\n",
              "      <td>99.0</td>\n",
              "      <td>3.0</td>\n",
              "      <td>546.0</td>\n",
              "      <td>1.0</td>\n",
              "      <td>3.0</td>\n",
              "      <td>191.0</td>\n",
              "      <td>10.0</td>\n",
              "      <td>3491.0</td>\n",
              "      <td>3.0</td>\n",
              "      <td>2.0</td>\n",
              "      <td>25.0</td>\n",
              "      <td>55.0</td>\n",
              "      <td>137.0</td>\n",
              "      <td>114.0</td>\n",
              "      <td>557.0</td>\n",
              "      <td>8.0</td>\n",
              "      <td>2.0</td>\n",
              "      <td>22.0</td>\n",
              "      <td>...</td>\n",
              "      <td>1.0</td>\n",
              "      <td>2.0</td>\n",
              "      <td>5.0</td>\n",
              "      <td>5.0</td>\n",
              "      <td>2.0</td>\n",
              "      <td>1.0</td>\n",
              "      <td>7.0</td>\n",
              "      <td>34.0</td>\n",
              "      <td>1.0</td>\n",
              "      <td>73.0</td>\n",
              "      <td>24.0</td>\n",
              "      <td>60.0</td>\n",
              "      <td>1.0</td>\n",
              "      <td>41.0</td>\n",
              "      <td>1.0</td>\n",
              "      <td>2.0</td>\n",
              "      <td>3.0</td>\n",
              "      <td>3.0</td>\n",
              "      <td>248.0</td>\n",
              "      <td>34.0</td>\n",
              "      <td>31.0</td>\n",
              "      <td>25.0</td>\n",
              "      <td>22.0</td>\n",
              "      <td>105.0</td>\n",
              "      <td>18.0</td>\n",
              "      <td>27.0</td>\n",
              "      <td>159.0</td>\n",
              "      <td>2.0</td>\n",
              "      <td>7.0</td>\n",
              "      <td>15.0</td>\n",
              "      <td>3.0</td>\n",
              "      <td>14.0</td>\n",
              "      <td>26.0</td>\n",
              "      <td>482.0</td>\n",
              "      <td>118.0</td>\n",
              "      <td>282.0</td>\n",
              "      <td>2.0</td>\n",
              "      <td>29.0</td>\n",
              "      <td>61.0</td>\n",
              "      <td>39.0</td>\n",
              "    </tr>\n",
              "  </tbody>\n",
              "</table>\n",
              "<p>5 rows × 116 columns</p>\n",
              "</div>"
            ],
            "text/plain": [
              "                                                    text     acq  ...   yen  zinc\n",
              "917    Producers zinc stocks in Organization\\nfor Eco...     0.0  ...   0.0   0.0\n",
              "918    Higher world oil prices, coupled with a\\nnew r...     0.0  ...   0.0   0.0\n",
              "919    The rebate granted at yesterday's EC\\nsugar te...     0.0  ...   0.0   0.0\n",
              "920    26 weeks ended Dec 28\\n    Net shr 25.9 cents ...     0.0  ...   0.0   0.0\n",
              "Total                                                NaN  2108.0  ...  61.0  39.0\n",
              "\n",
              "[5 rows x 116 columns]"
            ]
          },
          "metadata": {},
          "execution_count": 11
        }
      ]
    },
    {
      "cell_type": "code",
      "metadata": {
        "id": "ZknmaTRrNxG3",
        "colab": {
          "base_uri": "https://localhost:8080/",
          "height": 521
        },
        "outputId": "588615b4-7d5f-4c80-c35f-b4bce5496aa8"
      },
      "source": [
        "# Visualizes the counts\n",
        "import matplotlib.pyplot as plt\n",
        "fig = plt.figure()\n",
        "ax = fig.add_axes([0,0,5,3])\n",
        "x = df.columns[1:]\n",
        "y = df.loc['Total'][1:]\n",
        "ax.bar(x, y)\n",
        "plt.xticks(rotation=90)\n",
        "plt.show()"
      ],
      "execution_count": null,
      "outputs": [
        {
          "output_type": "display_data",
          "data": {
            "image/png": "[encoded data removed]",
            "text/plain": [
              "<Figure size 432x288 with 1 Axes>"
            ]
          },
          "metadata": {
            "needs_background": "light"
          }
        }
      ]
    },
    {
      "cell_type": "markdown",
      "metadata": {
        "id": "1UwP_Ngc38Yg"
      },
      "source": [
        "# PRE-PROCESSING\n",
        "\n",
        "In the preprocessing, I will preprocess the data (Huh!). When I checked the label counts I see that it's **EXTREMELY UNBALANCED**. It will be very difficult for a model to learn from this type of data. So, as the next step, I will only keep the labels with a count of more than 1000."
      ]
    },
    {
      "cell_type": "markdown",
      "metadata": {
        "id": "FrwboZ2I3x9Y"
      },
      "source": [
        "### Keep Some Columns Only"
      ]
    },
    {
      "cell_type": "code",
      "metadata": {
        "id": "8OEn8cjuNyh0",
        "colab": {
          "base_uri": "https://localhost:8080/"
        },
        "outputId": "b25ca8bb-6957-4c93-9cbd-ede90b5f046b"
      },
      "source": [
        "number_of_repetition = pd.DataFrame(df.iloc[:,1:].loc['Total'])\n",
        "number_of_repetition.sort_values('Total',ascending=False)\n",
        "repeated_1000 = list((number_of_repetition[number_of_repetition.Total>=1000.0]).index)\n",
        "print(len(repeated_1000))"
      ],
      "execution_count": null,
      "outputs": [
        {
          "output_type": "stream",
          "name": "stdout",
          "text": [
            "2\n"
          ]
        }
      ]
    },
    {
      "cell_type": "code",
      "metadata": {
        "id": "-sgd3L7PN0Su",
        "colab": {
          "base_uri": "https://localhost:8080/",
          "height": 221
        },
        "outputId": "e8f5fec0-eae3-4e18-d98a-81b8c168cb68"
      },
      "source": [
        "# Creates a copy of the dataframe to modify and keep only some columns\n",
        "df_copy = df.copy()\n",
        "df_copy = df_copy[repeated_1000]\n",
        "df_copy['text'] = df['text']\n",
        "print(df_copy.shape)\n",
        "df_copy.head()"
      ],
      "execution_count": null,
      "outputs": [
        {
          "output_type": "stream",
          "name": "stdout",
          "text": [
            "(18584, 3)\n"
          ]
        },
        {
          "output_type": "execute_result",
          "data": {
            "text/html": [
              "<div>\n",
              "<style scoped>\n",
              "    .dataframe tbody tr th:only-of-type {\n",
              "        vertical-align: middle;\n",
              "    }\n",
              "\n",
              "    .dataframe tbody tr th {\n",
              "        vertical-align: top;\n",
              "    }\n",
              "\n",
              "    .dataframe thead th {\n",
              "        text-align: right;\n",
              "    }\n",
              "</style>\n",
              "<table border=\"1\" class=\"dataframe\">\n",
              "  <thead>\n",
              "    <tr style=\"text-align: right;\">\n",
              "      <th></th>\n",
              "      <th>acq</th>\n",
              "      <th>earn</th>\n",
              "      <th>text</th>\n",
              "    </tr>\n",
              "  </thead>\n",
              "  <tbody>\n",
              "    <tr>\n",
              "      <th>0</th>\n",
              "      <td>1.0</td>\n",
              "      <td>0.0</td>\n",
              "      <td>Paxar Corp said it has\\nacquired Thermo-Print ...</td>\n",
              "    </tr>\n",
              "    <tr>\n",
              "      <th>1</th>\n",
              "      <td>0.0</td>\n",
              "      <td>1.0</td>\n",
              "      <td>Shr 10 cts vs 32 cts\\n    Net 975,000 vs 3,145...</td>\n",
              "    </tr>\n",
              "    <tr>\n",
              "      <th>2</th>\n",
              "      <td>0.0</td>\n",
              "      <td>0.0</td>\n",
              "      <td>Key Tronic corp said it has\\nreceived contract...</td>\n",
              "    </tr>\n",
              "    <tr>\n",
              "      <th>3</th>\n",
              "      <td>1.0</td>\n",
              "      <td>0.0</td>\n",
              "      <td>Canadian Bashaw Leduc Oil and\\nGas Ltd said it...</td>\n",
              "    </tr>\n",
              "    <tr>\n",
              "      <th>4</th>\n",
              "      <td>0.0</td>\n",
              "      <td>1.0</td>\n",
              "      <td>Entourage International Inc said it had\\na fir...</td>\n",
              "    </tr>\n",
              "  </tbody>\n",
              "</table>\n",
              "</div>"
            ],
            "text/plain": [
              "   acq  earn                                               text\n",
              "0  1.0   0.0  Paxar Corp said it has\\nacquired Thermo-Print ...\n",
              "1  0.0   1.0  Shr 10 cts vs 32 cts\\n    Net 975,000 vs 3,145...\n",
              "2  0.0   0.0  Key Tronic corp said it has\\nreceived contract...\n",
              "3  1.0   0.0  Canadian Bashaw Leduc Oil and\\nGas Ltd said it...\n",
              "4  0.0   1.0  Entourage International Inc said it had\\na fir..."
            ]
          },
          "metadata": {},
          "execution_count": 14
        }
      ]
    },
    {
      "cell_type": "markdown",
      "metadata": {
        "id": "suyiVmio4IxG"
      },
      "source": [
        "### Text Cleaning\n",
        "\n",
        "Now the text needs some cleaning. Below function will provide that."
      ]
    },
    {
      "cell_type": "code",
      "metadata": {
        "id": "wz_Qy_gQN1d8"
      },
      "source": [
        "# Function to clean text\n",
        "def clean_text(text):\n",
        "    \"\"\"\n",
        "    This function takes a corpus and returns a cleaned corpus. \n",
        "\n",
        "    Inputs: \n",
        "      text: Body of text in a string format.\n",
        "\n",
        "    Returns:\n",
        "      A cleaned corpus.\n",
        "    \"\"\"\n",
        "    # Stopwords in English language\n",
        "    stopword = stopwords.words('english')\n",
        "\n",
        "    # Lemmatizer\n",
        "    wn = nltk.WordNetLemmatizer()\n",
        "\n",
        "    # Remove new line character\n",
        "    text = re.sub('\\n', ' ', text)\n",
        "\n",
        "    # Remove numeric characters\n",
        "    text = re.sub('\\d', '', text)\n",
        "    \n",
        "    # Remove punctuation\n",
        "    text = ''.join([char for char in text if char not in string.punctuation])\n",
        "    \n",
        "    text = text.lower()\n",
        "\n",
        "    # Remove stopwords\n",
        "    for word in text:\n",
        "      if word not in stopword:\n",
        "        word=word\n",
        "\n",
        "    # Lemmatize the words\n",
        "    for word in text:\n",
        "      word = wn.lemmatize(word)\n",
        "    \n",
        "    # Return text\n",
        "    return text \n"
      ],
      "execution_count": null,
      "outputs": []
    },
    {
      "cell_type": "code",
      "metadata": {
        "id": "w6EQL-LKN-wD",
        "colab": {
          "base_uri": "https://localhost:8080/"
        },
        "outputId": "ced1a84f-550b-4770-fda0-15648112b34b"
      },
      "source": [
        "# Clean all the rows in the text column\n",
        "df_copy.text = df_copy.text.apply(lambda x: clean_text(str(x)))\n",
        "df_copy.text.head()"
      ],
      "execution_count": null,
      "outputs": [
        {
          "output_type": "execute_result",
          "data": {
            "text/plain": [
              "0    paxar corp said it has acquired thermoprint gm...\n",
              "1    shr  cts vs  cts     net  vs      sales  mln v...\n",
              "2    key tronic corp said it has received contracts...\n",
              "3    canadian bashaw leduc oil and gas ltd said it ...\n",
              "4    entourage international inc said it had a firs...\n",
              "Name: text, dtype: object"
            ]
          },
          "metadata": {},
          "execution_count": 16
        }
      ]
    },
    {
      "cell_type": "markdown",
      "metadata": {
        "id": "4pvcSZQt4X0K"
      },
      "source": [
        "### Number of Words in Each Text Body\n",
        "\n",
        "I'm just curious about the word counts in each news articles. Let's see if it's worth to add as a new feature to our data."
      ]
    },
    {
      "cell_type": "code",
      "metadata": {
        "id": "Vv9zredvOFPT",
        "colab": {
          "base_uri": "https://localhost:8080/",
          "height": 204
        },
        "outputId": "9b19247c-cfe1-4d22-9c2c-9644efed8b7b"
      },
      "source": [
        "df_text_length = pd.DataFrame(df_copy.text)\n",
        "\n",
        "df_text_length['text_length'] = df_text_length.text.apply(lambda x: len(x.strip().split(' ')))\n",
        "df_text_length.head()"
      ],
      "execution_count": null,
      "outputs": [
        {
          "output_type": "execute_result",
          "data": {
            "text/html": [
              "<div>\n",
              "<style scoped>\n",
              "    .dataframe tbody tr th:only-of-type {\n",
              "        vertical-align: middle;\n",
              "    }\n",
              "\n",
              "    .dataframe tbody tr th {\n",
              "        vertical-align: top;\n",
              "    }\n",
              "\n",
              "    .dataframe thead th {\n",
              "        text-align: right;\n",
              "    }\n",
              "</style>\n",
              "<table border=\"1\" class=\"dataframe\">\n",
              "  <thead>\n",
              "    <tr style=\"text-align: right;\">\n",
              "      <th></th>\n",
              "      <th>text</th>\n",
              "      <th>text_length</th>\n",
              "    </tr>\n",
              "  </thead>\n",
              "  <tbody>\n",
              "    <tr>\n",
              "      <th>0</th>\n",
              "      <td>paxar corp said it has acquired thermoprint gm...</td>\n",
              "      <td>23</td>\n",
              "    </tr>\n",
              "    <tr>\n",
              "      <th>1</th>\n",
              "      <td>shr  cts vs  cts     net  vs      sales  mln v...</td>\n",
              "      <td>27</td>\n",
              "    </tr>\n",
              "    <tr>\n",
              "      <th>2</th>\n",
              "      <td>key tronic corp said it has received contracts...</td>\n",
              "      <td>62</td>\n",
              "    </tr>\n",
              "    <tr>\n",
              "      <th>3</th>\n",
              "      <td>canadian bashaw leduc oil and gas ltd said it ...</td>\n",
              "      <td>54</td>\n",
              "    </tr>\n",
              "    <tr>\n",
              "      <th>4</th>\n",
              "      <td>entourage international inc said it had a firs...</td>\n",
              "      <td>97</td>\n",
              "    </tr>\n",
              "  </tbody>\n",
              "</table>\n",
              "</div>"
            ],
            "text/plain": [
              "                                                text  text_length\n",
              "0  paxar corp said it has acquired thermoprint gm...           23\n",
              "1  shr  cts vs  cts     net  vs      sales  mln v...           27\n",
              "2  key tronic corp said it has received contracts...           62\n",
              "3  canadian bashaw leduc oil and gas ltd said it ...           54\n",
              "4  entourage international inc said it had a firs...           97"
            ]
          },
          "metadata": {},
          "execution_count": 17
        }
      ]
    },
    {
      "cell_type": "code",
      "metadata": {
        "id": "I8EuJK0yOHS7",
        "colab": {
          "base_uri": "https://localhost:8080/",
          "height": 297
        },
        "outputId": "bb965703-4cf1-414c-8208-cc1617cf2bd9"
      },
      "source": [
        "import seaborn as sns\n",
        "x = df_text_length.text_length\n",
        "\n",
        "\n",
        "sns.histplot(x, bins=100, stat='percent').set_xlim(0,1000)"
      ],
      "execution_count": null,
      "outputs": [
        {
          "output_type": "execute_result",
          "data": {
            "text/plain": [
              "(0.0, 1000.0)"
            ]
          },
          "metadata": {},
          "execution_count": 18
        },
        {
          "output_type": "display_data",
          "data": {
            "image/png": "[encoded data removed]",
            "text/plain": [
              "<Figure size 432x288 with 1 Axes>"
            ]
          },
          "metadata": {
            "needs_background": "light"
          }
        }
      ]
    },
    {
      "cell_type": "markdown",
      "metadata": {
        "id": "i7Fjx4Bb9zmS"
      },
      "source": [
        "The chart above shows that majority of the articles have a word count that is less than 200. It can be added as a new feature to the data."
      ]
    },
    {
      "cell_type": "markdown",
      "metadata": {
        "id": "lZhRP-UX4L7j"
      },
      "source": [
        "### Train/Test Split\n",
        "\n",
        "In this step, I will split my data as train and test sets. Train set will be 75% of the data and the remaining 25% will be the test set."
      ]
    },
    {
      "cell_type": "code",
      "metadata": {
        "id": "zEuKn4RJOAQW"
      },
      "source": [
        "from sklearn.model_selection import train_test_split\n",
        "train_corpus, test_corpus, train_labels, test_labels = train_test_split(df_copy['text'], df_copy.iloc[:,:-1], test_size=0.25, random_state=42, shuffle=True)"
      ],
      "execution_count": null,
      "outputs": []
    },
    {
      "cell_type": "code",
      "metadata": {
        "id": "wqLDDgZVRBQg",
        "colab": {
          "base_uri": "https://localhost:8080/"
        },
        "outputId": "e850ea28-f424-49c0-d3b5-0e5249acb16b"
      },
      "source": [
        "type(train_corpus)"
      ],
      "execution_count": null,
      "outputs": [
        {
          "output_type": "execute_result",
          "data": {
            "text/plain": [
              "pandas.core.series.Series"
            ]
          },
          "metadata": {},
          "execution_count": 20
        }
      ]
    },
    {
      "cell_type": "markdown",
      "metadata": {
        "id": "61RMzTNlhBh2"
      },
      "source": [
        "Since a Tensorflow model expects an array, not a Pandas series, I will convert all the data to Numpy arrays."
      ]
    },
    {
      "cell_type": "code",
      "metadata": {
        "id": "La9PrKAKQ2Ch"
      },
      "source": [
        "# Converts the data to Numpy arrays\n",
        "import numpy as np\n",
        "\n",
        "training_corpus = np.array(train_corpus)\n",
        "training_labels = np.array(train_labels)\n",
        "testing_corpus = np.array(test_corpus)\n",
        "testing_labels = np.array(test_labels)\n",
        "\n",
        "n_labels = training_labels.shape[1]"
      ],
      "execution_count": null,
      "outputs": []
    },
    {
      "cell_type": "markdown",
      "metadata": {
        "id": "HXdAWGTy4kE4"
      },
      "source": [
        "#### Check the Balance Between Train and Test Sets\n",
        "\n",
        "Let's see if train and test sets are similarly balanced."
      ]
    },
    {
      "cell_type": "code",
      "metadata": {
        "id": "6ry6o9OhLovP",
        "colab": {
          "base_uri": "https://localhost:8080/"
        },
        "outputId": "20346be1-e2e8-4f1d-bedf-a701abd4b2d8"
      },
      "source": [
        "train_labels.sum(numeric_only=True, axis=0)"
      ],
      "execution_count": null,
      "outputs": [
        {
          "output_type": "execute_result",
          "data": {
            "text/plain": [
              "acq     3671.0\n",
              "earn    6111.0\n",
              "dtype: float64"
            ]
          },
          "metadata": {},
          "execution_count": 22
        }
      ]
    },
    {
      "cell_type": "code",
      "metadata": {
        "id": "dWa0pfIsL_r5",
        "colab": {
          "base_uri": "https://localhost:8080/"
        },
        "outputId": "1cdeb3a6-dabf-461e-fb29-9e6bbdbbccde"
      },
      "source": [
        "test_labels.sum(numeric_only=True, axis=0)"
      ],
      "execution_count": null,
      "outputs": [
        {
          "output_type": "execute_result",
          "data": {
            "text/plain": [
              "acq     545.0\n",
              "earn    871.0\n",
              "dtype: float64"
            ]
          },
          "metadata": {},
          "execution_count": 23
        }
      ]
    },
    {
      "cell_type": "markdown",
      "metadata": {
        "id": "ORHAC-7nioTc"
      },
      "source": [
        "So, the label ratio in train set and test set are not exactly the same but they are close enough."
      ]
    },
    {
      "cell_type": "markdown",
      "metadata": {
        "id": "GjEiOf1d4pfE"
      },
      "source": [
        "# MODEL BUILDING\n",
        "\n",
        "In the model building part, the below code first will try loading a pre-saved model that I built and saved in my personal Google Drive. It will ask for a login for verification. The below code also will build the model from scratch if loading the model from the Drive is not successful. \n",
        "\n",
        "The model is a 6-layers deep learning model with the activation function 'tanh' in hidden layers and 'sigmoid' in the output layer.\n",
        "\n",
        "For the embedding layer, I used Tensorflow pre-trained embeddings that are trained on English Google News 7B corpus.\n",
        "\n",
        "In order to prevent overfitting, I used Ridge Regression regularizer in some hidden layers. I also used earlystopping and learning rate scheduler. Earlystopping monitors the binary accuracy for its maximum value for 10 epochs until it stops increasing. And the learning rate scheduler is adjusted to decrease exponentially starting from 0.0002. \n",
        "\n",
        "In the compiling stage, the loss function is 'binary_crossentropy', the optimizer is SGD and the metric is 'binary_accuracy'."
      ]
    },
    {
      "cell_type": "code",
      "metadata": {
        "id": "i6jzzSDE5s-s"
      },
      "source": [
        "# Try loading the pre-saved model. If cannot, build and train the model.\n",
        "\n",
        "try:\n",
        "  #https://stackoverflow.com/posts/48385944/revisions\n",
        "\n",
        "  # 1. Authenticate and create the PyDrive client.\n",
        "  auth.authenticate_user()\n",
        "  gauth = GoogleAuth()\n",
        "  gauth.credentials = GoogleCredentials.get_application_default()\n",
        "  drive = GoogleDrive(gauth)\n",
        "\n",
        "  # choose a local (colab) directory to store the data.\n",
        "  local_download_path = os.path.expanduser('content/saved_model')\n",
        "  assets = os.path.expanduser('content/saved_model/assets')\n",
        "  variables = os.path.expanduser('content/saved_model/variables')\n",
        "\n",
        "  \n",
        "  os.makedirs(local_download_path)\n",
        "  os.makedirs(assets)\n",
        "  os.makedirs(variables)\n",
        "\n",
        "  # 2. Auto-iterate using the query syntax\n",
        "  #    https://developers.google.com/drive/v2/web/search-parameters\n",
        "\n",
        "  # File IDs in queries below. File ID: the last part of the file link\n",
        "  files_assets = drive.ListFile({'q': \"'1-9EbCGGL0kfkgd78jvZvGu0HZ-wwgDSQ' in parents\"}).GetList()\n",
        "  files_variables = drive.ListFile({'q': \"'1--rTTlM02zdhw1p7iT7ROeIq4E_Fbkmr' in parents\"}).GetList()\n",
        "  file_list = drive.ListFile({'q': \"'1hM_rwQLHD8_d3yWDjEJ5TdJBzlzpWpce' in parents\"}).GetList()\n",
        "\n",
        "\n",
        "  for f in files_assets:\n",
        "    # 3. Create & download by id.\n",
        "    fname = os.path.join(assets, f['title'])\n",
        "    f_ = drive.CreateFile({'id': f['id']})\n",
        "    f_.GetContentFile(fname)\n",
        "\n",
        "  for f in files_variables:\n",
        "    # 3. Create & download by id.\n",
        "    fname = os.path.join(variables, f['title'])\n",
        "    f_ = drive.CreateFile({'id': f['id']})\n",
        "    f_.GetContentFile(fname)\n",
        "\n",
        "  try:  \n",
        "    for f in file_list:\n",
        "      # 3. Create & download by id.\n",
        "      fname = os.path.join(local_download_path, f['title'])\n",
        "      f_ = drive.CreateFile({'id': f['id']})\n",
        "      f_.GetContentFile(fname)\n",
        "\n",
        "  except: pass\n",
        "\n",
        "  # Load the model\n",
        "  model= keras.models.load_model('content/saved_model')\n",
        "\n",
        "except:\n",
        "  import tensorflow_hub as hub\n",
        "\n",
        "  # Build the model\n",
        "  model = keras.Sequential([\n",
        "      hub.KerasLayer(\"https://tfhub.dev/google/nnlm-en-dim50/2\", dtype=tf.string, input_shape=[], output_shape=[50]),\n",
        "      keras.layers.Dense(64, activation='tanh',kernel_regularizer='l2'),\n",
        "      #keras.layers.Dropout(0.1),\n",
        "      keras.layers.Dense(32, activation='tanh',kernel_regularizer='l2'),\n",
        "      #keras.layers.Dropout(0.1),\n",
        "      keras.layers.Dense(16, activation='tanh',kernel_regularizer='l2'),\n",
        "      keras.layers.Dense(8, activation='tanh'),\n",
        "      keras.layers.Dense(n_labels, activation='sigmoid')\n",
        "  ])\n",
        "\n",
        "  print(model.summary())\n",
        "\n",
        "  from keras import callbacks\n",
        "\n",
        "  # Define early stopping to prevent overfit\n",
        "  earlystopping = callbacks.EarlyStopping(monitor='binary_accuracy',\n",
        "                                          mode='max',\n",
        "                                          patience=10,\n",
        "                                          restore_best_weights=True,\n",
        "                                          verbose=1)\n",
        "\n",
        "  # Exponantial Learning Rate Scheduler function\n",
        "  def scheduler(epoch, lr):\n",
        "      if epoch < 3:\n",
        "          return lr\n",
        "      else:\n",
        "          return lr*tf.math.exp(-0.1)\n",
        "\n",
        "  # Define lr scheduler to prevent overfit\n",
        "  lr_scheduler = callbacks.LearningRateScheduler(scheduler, verbose=1)\n",
        "\n",
        "  \n",
        "  model.compile(loss='binary_crossentropy',\n",
        "              optimizer=tf.keras.optimizers.SGD(0.0002),\n",
        "              metrics=['binary_accuracy'])\n",
        "              \n",
        "  history = model.fit(training_corpus, training_labels,\n",
        "                    batch_size = 128,\n",
        "                    epochs=100,\n",
        "                    verbose=1,\n",
        "                    validation_split=0.3,\n",
        "                    callbacks=[lr_scheduler, earlystopping]) \n",
        "  \n",
        "  # Printing a graph showing the accuracy and loss changes during the training phase\n",
        "  plt.plot(history.history['binary_accuracy'])\n",
        "  plt.plot(history.history['val_binary_accuracy'])\n",
        "  plt.title('model accuracy')\n",
        "  plt.ylabel('accuracy')\n",
        "  plt.xlabel('epoch')\n",
        "  plt.legend(['train', 'validation'], loc='right')\n",
        "  plt.show()\n",
        "\n",
        "  plt.plot(history.history['loss'])\n",
        "  plt.plot(history.history['val_loss'])\n",
        "  plt.title('model loss')\n",
        "  plt.ylabel('loss')\n",
        "  plt.xlabel('epoch')\n",
        "  plt.legend(['train', 'validation'], loc='right')\n",
        "  plt.show()"
      ],
      "execution_count": null,
      "outputs": []
    },
    {
      "cell_type": "code",
      "metadata": {
        "id": "86wFGmp-ri_9"
      },
      "source": [
        "# Connect to Google Drive and save the model there \n",
        " \n",
        "# from google.colab import drive\n",
        "# drive.mount('/content/drive')\n",
        "\n",
        "# Save the model\n",
        "  #model.save('/content/drive/MyDrive/ML_challenge')"
      ],
      "execution_count": null,
      "outputs": []
    },
    {
      "cell_type": "markdown",
      "metadata": {
        "id": "PQHSYHnk4uh7"
      },
      "source": [
        "## Model Evaluation\n",
        "\n",
        "I will evaluate the model with the test set to get the binary accuracy score and loss. I will also create a classification report to see the precision and recall values for for each of the two labels('acq' and 'earn') in the test set."
      ]
    },
    {
      "cell_type": "code",
      "metadata": {
        "id": "2qjHmXLjuSy2",
        "colab": {
          "base_uri": "https://localhost:8080/"
        },
        "outputId": "d943f333-d5cb-4560-eab4-29fb231c6508"
      },
      "source": [
        "model.evaluate(testing_corpus, testing_labels)"
      ],
      "execution_count": null,
      "outputs": [
        {
          "output_type": "stream",
          "name": "stdout",
          "text": [
            "146/146 [==============================] - 1s 3ms/step - loss: 1.7562 - binary_accuracy: 0.8319\n"
          ]
        },
        {
          "output_type": "execute_result",
          "data": {
            "text/plain": [
              "[1.756176233291626, 0.8318983912467957]"
            ]
          },
          "metadata": {},
          "execution_count": 26
        }
      ]
    },
    {
      "cell_type": "code",
      "metadata": {
        "id": "5GOGTqTwKCYt",
        "colab": {
          "base_uri": "https://localhost:8080/",
          "height": 376
        },
        "outputId": "81c083b7-5fbc-40eb-c8d9-8d19c99569cf"
      },
      "source": [
        "# Get the predictions from the test set\n",
        "predicted_test = model.predict(test_corpus)\n",
        "predicted_test\n",
        "\n",
        "predictions = []\n",
        "for row in predicted_test:\n",
        "  idx = np.argmax(row)\n",
        "  predictions.append(idx)\n",
        "\n",
        "print(len(predictions))\n",
        "test_labels.head(10)"
      ],
      "execution_count": null,
      "outputs": [
        {
          "output_type": "stream",
          "name": "stdout",
          "text": [
            "4646\n"
          ]
        },
        {
          "output_type": "execute_result",
          "data": {
            "text/html": [
              "<div>\n",
              "<style scoped>\n",
              "    .dataframe tbody tr th:only-of-type {\n",
              "        vertical-align: middle;\n",
              "    }\n",
              "\n",
              "    .dataframe tbody tr th {\n",
              "        vertical-align: top;\n",
              "    }\n",
              "\n",
              "    .dataframe thead th {\n",
              "        text-align: right;\n",
              "    }\n",
              "</style>\n",
              "<table border=\"1\" class=\"dataframe\">\n",
              "  <thead>\n",
              "    <tr style=\"text-align: right;\">\n",
              "      <th></th>\n",
              "      <th>acq</th>\n",
              "      <th>earn</th>\n",
              "    </tr>\n",
              "  </thead>\n",
              "  <tbody>\n",
              "    <tr>\n",
              "      <th>109</th>\n",
              "      <td>0.0</td>\n",
              "      <td>0.0</td>\n",
              "    </tr>\n",
              "    <tr>\n",
              "      <th>420</th>\n",
              "      <td>0.0</td>\n",
              "      <td>0.0</td>\n",
              "    </tr>\n",
              "    <tr>\n",
              "      <th>535</th>\n",
              "      <td>0.0</td>\n",
              "      <td>1.0</td>\n",
              "    </tr>\n",
              "    <tr>\n",
              "      <th>503</th>\n",
              "      <td>0.0</td>\n",
              "      <td>0.0</td>\n",
              "    </tr>\n",
              "    <tr>\n",
              "      <th>547</th>\n",
              "      <td>0.0</td>\n",
              "      <td>0.0</td>\n",
              "    </tr>\n",
              "    <tr>\n",
              "      <th>12</th>\n",
              "      <td>0.0</td>\n",
              "      <td>0.0</td>\n",
              "    </tr>\n",
              "    <tr>\n",
              "      <th>403</th>\n",
              "      <td>0.0</td>\n",
              "      <td>0.0</td>\n",
              "    </tr>\n",
              "    <tr>\n",
              "      <th>403</th>\n",
              "      <td>0.0</td>\n",
              "      <td>0.0</td>\n",
              "    </tr>\n",
              "    <tr>\n",
              "      <th>523</th>\n",
              "      <td>0.0</td>\n",
              "      <td>1.0</td>\n",
              "    </tr>\n",
              "    <tr>\n",
              "      <th>233</th>\n",
              "      <td>0.0</td>\n",
              "      <td>0.0</td>\n",
              "    </tr>\n",
              "  </tbody>\n",
              "</table>\n",
              "</div>"
            ],
            "text/plain": [
              "     acq  earn\n",
              "109  0.0   0.0\n",
              "420  0.0   0.0\n",
              "535  0.0   1.0\n",
              "503  0.0   0.0\n",
              "547  0.0   0.0\n",
              "12   0.0   0.0\n",
              "403  0.0   0.0\n",
              "403  0.0   0.0\n",
              "523  0.0   1.0\n",
              "233  0.0   0.0"
            ]
          },
          "metadata": {},
          "execution_count": 27
        }
      ]
    },
    {
      "cell_type": "code",
      "metadata": {
        "colab": {
          "base_uri": "https://localhost:8080/"
        },
        "id": "T_kIe202S0Cy",
        "outputId": "b6758e67-bcce-4f66-d32b-d19ce503d623"
      },
      "source": [
        "predicted_test = model.predict(test_corpus)\n",
        "predicted_test"
      ],
      "execution_count": null,
      "outputs": [
        {
          "output_type": "execute_result",
          "data": {
            "text/plain": [
              "array([[0.40773237, 0.54049736],\n",
              "       [0.38485467, 0.3478552 ],\n",
              "       [0.38301373, 0.42303216],\n",
              "       ...,\n",
              "       [0.34374774, 0.3916471 ],\n",
              "       [0.36927307, 0.36561623],\n",
              "       [0.3300377 , 0.3871543 ]], dtype=float32)"
            ]
          },
          "metadata": {},
          "execution_count": 28
        }
      ]
    },
    {
      "cell_type": "code",
      "metadata": {
        "id": "4uJbDjWAmDfq",
        "colab": {
          "base_uri": "https://localhost:8080/"
        },
        "outputId": "674b6e36-919d-4883-85f0-b0483767e923"
      },
      "source": [
        "# Get the best possible label for each text and create a list. Label 0 represents 'acq' while 1 represents 'earn'\n",
        "\n",
        "test_output=[]\n",
        "for index, row in test_labels.iterrows():\n",
        "  idx= np.argmax([row[0],row[1]])\n",
        "  test_output.append(idx)\n",
        "\n",
        "test_output[:20]"
      ],
      "execution_count": null,
      "outputs": [
        {
          "output_type": "execute_result",
          "data": {
            "text/plain": [
              "[0, 0, 1, 0, 0, 0, 0, 0, 1, 0, 0, 0, 0, 1, 0, 0, 0, 0, 0, 1]"
            ]
          },
          "metadata": {},
          "execution_count": 29
        }
      ]
    },
    {
      "cell_type": "code",
      "metadata": {
        "id": "__mXGkJziyUe",
        "colab": {
          "base_uri": "https://localhost:8080/"
        },
        "outputId": "659a95e6-d03a-4d7e-c968-c35533abe711"
      },
      "source": [
        "# Classification report for test data\n",
        "from sklearn.metrics import classification_report\n",
        "target_names = test_labels.columns\n",
        "print(classification_report(test_output, predictions, target_names=target_names))"
      ],
      "execution_count": null,
      "outputs": [
        {
          "output_type": "stream",
          "name": "stdout",
          "text": [
            "              precision    recall  f1-score   support\n",
            "\n",
            "         acq       0.82      0.28      0.41      3780\n",
            "        earn       0.19      0.73      0.30       866\n",
            "\n",
            "    accuracy                           0.36      4646\n",
            "   macro avg       0.50      0.50      0.36      4646\n",
            "weighted avg       0.70      0.36      0.39      4646\n",
            "\n"
          ]
        }
      ]
    },
    {
      "cell_type": "markdown",
      "metadata": {
        "id": "wPo8QPzGs4iA"
      },
      "source": [
        "It's not really the best output in terms of accuracy scores. But I always like to check the precision and recall values for the classification tasks. So, for this particular task, classifiying the class 'earn' is the most important part. Even though the f1-score is low around 0.30, the recall value is 0.73 which means 73 out of 100 'earn' labels predicted correctly. But when we check the precision value, we can see that 19% of all predictions for 'earn' were actually 'earn'. But I like the recall value. I'll take it."
      ]
    },
    {
      "cell_type": "markdown",
      "metadata": {
        "id": "bEIMuy9gTmPt"
      },
      "source": [
        "# TEST WITH NEW DATA\n",
        "\n",
        "In this step, you can test the model with your data. The function below expects either an .sgm file formatted similarly as the data used for training or a corpus (raw text). If an .sgm file provided, it will return an evaluation score and a classification report. If raw text provided, it will return a prediction for a label that your text might belong to.\n",
        "\n",
        "You can see the instructions and examples below."
      ]
    },
    {
      "cell_type": "code",
      "metadata": {
        "id": "RxkSWuMt42U0"
      },
      "source": [
        "source = 'your .sgm file path or raw text'\n",
        "\n",
        "def test_new_data(source):\n",
        "    \"\"\" This function takes an .sgm file and returns the classification report . \n",
        "\n",
        "    Inputs: \n",
        "      source_file: path of the file source in a string format\n",
        "\n",
        "    Returns:\n",
        "      Evaluation results of the corpus as the function loss and binary accuracy.\n",
        "      Classification report for classes 'acq' and 'earn'.\n",
        "            \n",
        "    \"\"\"\n",
        "    # If and .sgm file provided do this\n",
        "    if source.endswith('.sgm'):\n",
        "\n",
        "      # Extract text body and labels\n",
        "      extracted_dataframe = extract_text(source)\n",
        "\n",
        "      \n",
        "      # https://stackoverflow.com/questions/45312377/how-to-one-hot-encode-from-a-pandas-column-containing-a-list\n",
        "\n",
        "      from sklearn.preprocessing import MultiLabelBinarizer\n",
        "      mlb = MultiLabelBinarizer()\n",
        "      df_binarized = pd.DataFrame(mlb.fit_transform(extracted_dataframe.pop('label')),\n",
        "                            columns=mlb.classes_,\n",
        "                            index=extracted_dataframe.index)\n",
        "      extracted_dataframe=pd.concat([extracted_dataframe, df_binarized], axis=1)\n",
        "\n",
        "      # Clean the text\n",
        "      extracted_dataframe.text = extracted_dataframe.text.apply(lambda x: clean_text(str(x)))\n",
        "      new_test_corpus = extracted_dataframe.text\n",
        "      new_test_labels = extracted_dataframe[['acq','earn']]\n",
        "      print(model.evaluate(new_test_corpus, new_test_labels))\n",
        "\n",
        "\n",
        "      test_output=[]\n",
        "      for index, row in new_test_labels.iterrows():\n",
        "        idx = np.argmax([row[0],row[1]])\n",
        "        test_output.append(idx)\n",
        "\n",
        "      #Classification report for test data\n",
        "      predicted_test = model.predict(new_test_corpus)\n",
        "      predicted_test\n",
        "\n",
        "      predictions = []\n",
        "      for row in predicted_test:\n",
        "        idx = np.argmax(row)\n",
        "        predictions.append(idx)\n",
        "\n",
        "      from sklearn.metrics import classification_report\n",
        "      target_names = new_test_labels.columns\n",
        "      print(classification_report(test_output, predictions, target_names=target_names))\n",
        "\n",
        "    # If a raw text provided, do this\n",
        "    elif type(source)==str:\n",
        "      preds = model.predict([source])\n",
        "      predicted_class = np.argmax(preds)\n",
        "      label_dict={0: 'acq',\n",
        "                  1: 'earn'}  \n",
        "      print('Your text belongs to the \"{}\" category'.format(label_dict[predicted_class]))"
      ],
      "execution_count": null,
      "outputs": []
    },
    {
      "cell_type": "markdown",
      "metadata": {
        "id": "NxhqVYK-EQ_L"
      },
      "source": [
        "## Examples"
      ]
    },
    {
      "cell_type": "code",
      "metadata": {
        "id": "J2yYoLDo3kqf",
        "colab": {
          "base_uri": "https://localhost:8080/"
        },
        "outputId": "67de2fa6-d272-4a7a-ccfd-7d50c3ecaf5b"
      },
      "source": [
        "# Example for a file source\n",
        "source= '/content/content/data/reut2-000.sgm'\n",
        "\n",
        "test_new_data(source)"
      ],
      "execution_count": null,
      "outputs": [
        {
          "output_type": "stream",
          "name": "stdout",
          "text": [
            "32/32 [==============================] - 0s 3ms/step - loss: 1.7858 - binary_accuracy: 0.7530\n",
            "[1.7858260869979858, 0.753000020980835]\n",
            "              precision    recall  f1-score   support\n",
            "\n",
            "         acq       0.72      0.35      0.47       714\n",
            "        earn       0.29      0.66      0.40       286\n",
            "\n",
            "    accuracy                           0.44      1000\n",
            "   macro avg       0.51      0.51      0.44      1000\n",
            "weighted avg       0.60      0.44      0.45      1000\n",
            "\n"
          ]
        }
      ]
    },
    {
      "cell_type": "code",
      "metadata": {
        "colab": {
          "base_uri": "https://localhost:8080/"
        },
        "id": "SdBc-Mz65HFT",
        "outputId": "79e6775d-368d-40aa-d134-63fb4e6e22f6"
      },
      "source": [
        "# Example for a raw text source\n",
        "source = \"\"\"Sandoz AG said it planned a joint venture\n",
        "to produce herbicides in the Soviet Union.\n",
        "    The company said it had signed a letter of intent with the\n",
        "Soviet Ministry of Fertiliser Production to form the first\n",
        "foreign joint venture the ministry had undertaken since the\n",
        "Soviet Union allowed Western firms to enter into joint ventures\n",
        "two months ago.\n",
        "    The ministry and Sandoz will each have a 50 pct stake, but\n",
        "a company spokeswoman was unable to give details of the size of\n",
        "investment or planned output.\"\"\"\n",
        "\n",
        "test_new_data(source)"
      ],
      "execution_count": null,
      "outputs": [
        {
          "output_type": "stream",
          "name": "stdout",
          "text": [
            "Your text belongs to the \"earn\" category\n"
          ]
        }
      ]
    },
    {
      "cell_type": "markdown",
      "metadata": {
        "id": "-ZyAYNYL40Qi"
      },
      "source": [
        "# CONCLUSION\n",
        "\n",
        "Even though the model evaluation gave a result of 0.83 accuracy rate for the test set, when we look into the precision and recall values we can see that it's not a model as good as the accuracy score claims. There are many ways to improve the model, including improving the data by get it more balanced. Given flexible time, the model can be improved by trying other optimizers, number of layers, number of neurons in each layer and even maybe different type of machine learning algorithms instead of neural networks."
      ]
    }
  ]
}